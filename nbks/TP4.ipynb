{
 "metadata": {
  "name": ""
 },
 "nbformat": 3,
 "nbformat_minor": 0,
 "worksheets": [
  {
   "cells": [
    {
     "cell_type": "code",
     "collapsed": false,
     "input": [
      "def pair(n):\n",
      "    \"\"\"\n",
      "    cette fonction teste si un nombre est pair\n",
      "    >>> pair(3)\n",
      "    False\n",
      "    >>> pair(6)\n",
      "    True\n",
      "    \"\"\"\n",
      "    return n % 2 == 0"
     ],
     "language": "python",
     "metadata": {},
     "outputs": [],
     "prompt_number": 6
    },
    {
     "cell_type": "code",
     "collapsed": false,
     "input": [],
     "language": "python",
     "metadata": {},
     "outputs": []
    },
    {
     "cell_type": "code",
     "collapsed": false,
     "input": [
      "from ipython_doctester import test"
     ],
     "language": "python",
     "metadata": {},
     "outputs": [],
     "prompt_number": 2
    },
    {
     "cell_type": "code",
     "collapsed": false,
     "input": [
      "test(pair)"
     ],
     "language": "python",
     "metadata": {},
     "outputs": [
      {
       "html": [
        "\n",
        "      <p style=\"color:green;font-size:250%;font-weight=bold\">Success!</p>\n",
        "      "
       ],
       "metadata": {},
       "output_type": "display_data"
      },
      {
       "metadata": {},
       "output_type": "pyout",
       "prompt_number": 7,
       "text": [
        "<function __main__.pair>"
       ]
      }
     ],
     "prompt_number": 7
    },
    {
     "cell_type": "code",
     "collapsed": false,
     "input": [
      "def inverse(s):\n",
      "    \"\"\"\n",
      "    Renvoie l'inverse de la chaine s\n",
      "    >>> inverse('bonjour')\n",
      "    'ruojnob'\n",
      "    \"\"\"\n",
      "    res=''\n",
      "    for i in range(1,len(s)+1):\n",
      "        res+=s[-i]\n",
      "    return res"
     ],
     "language": "python",
     "metadata": {},
     "outputs": [],
     "prompt_number": 11
    },
    {
     "cell_type": "code",
     "collapsed": false,
     "input": [
      "test(inverse)"
     ],
     "language": "python",
     "metadata": {},
     "outputs": [
      {
       "html": [
        "\n",
        "      <p style=\"color:green;font-size:250%;font-weight=bold\">Success!</p>\n",
        "      "
       ],
       "metadata": {},
       "output_type": "display_data"
      },
      {
       "metadata": {},
       "output_type": "pyout",
       "prompt_number": 12,
       "text": [
        "<function __main__.inverse>"
       ]
      }
     ],
     "prompt_number": 12
    },
    {
     "cell_type": "code",
     "collapsed": false,
     "input": [
      "def palindrome(s):\n",
      "    \"\"\"\n",
      "    Renvoie vrai si s est un palindrome, faux sinon\n",
      "    >>> palindrome('esoperesteetserepose')\n",
      "    True\n",
      "    >>> palindrome('ouups')\n",
      "    False\n",
      "    \"\"\"\n",
      "    return s == inverse(s)"
     ],
     "language": "python",
     "metadata": {},
     "outputs": [],
     "prompt_number": 14
    },
    {
     "cell_type": "code",
     "collapsed": false,
     "input": [
      "test(palindrome)"
     ],
     "language": "python",
     "metadata": {},
     "outputs": [
      {
       "html": [
        "\n",
        "      <p style=\"color:green;font-size:250%;font-weight=bold\">Success!</p>\n",
        "      "
       ],
       "metadata": {},
       "output_type": "display_data"
      },
      {
       "metadata": {},
       "output_type": "pyout",
       "prompt_number": 15,
       "text": [
        "<function __main__.palindrome>"
       ]
      }
     ],
     "prompt_number": 15
    },
    {
     "cell_type": "code",
     "collapsed": false,
     "input": [
      "jours=['Lundi','Mardi','Mercredi','Jeudi','Vendredi','Samedi','Dimanche']"
     ],
     "language": "python",
     "metadata": {},
     "outputs": [],
     "prompt_number": 16
    },
    {
     "cell_type": "code",
     "collapsed": false,
     "input": [
      "def abrev(liste,n):\n",
      "    \"\"\"\n",
      "    Cette fonction sert \u00e0 tronquer tous les mots de la liste l\n",
      "    en une taille n au maximum.\n",
      "    >>> abrev(['Lundi','Mardi','Mercredi','Jeudi','Vendredi','Samedi','Dimanche'],2)\n",
      "    ['Lu', 'Ma', 'Me', 'Je', 'Ve', 'Sa', 'Di']\n",
      "    \"\"\"\n",
      "    res=[]\n",
      "    for mot in liste:\n",
      "        res.append(mot[0:n])\n",
      "    return res"
     ],
     "language": "python",
     "metadata": {},
     "outputs": [],
     "prompt_number": 22
    },
    {
     "cell_type": "code",
     "collapsed": false,
     "input": [
      "test(abrev)"
     ],
     "language": "python",
     "metadata": {},
     "outputs": [
      {
       "html": [
        "\n",
        "      <p style=\"color:green;font-size:250%;font-weight=bold\">Success!</p>\n",
        "      "
       ],
       "metadata": {},
       "output_type": "display_data"
      },
      {
       "metadata": {},
       "output_type": "pyout",
       "prompt_number": 23,
       "text": [
        "<function __main__.abrev>"
       ]
      }
     ],
     "prompt_number": 23
    },
    {
     "cell_type": "code",
     "collapsed": false,
     "input": [
      "from collections import OrderedDict\n",
      "def abrege(liste,n):\n",
      "    dico=dict()\n",
      "    for mot in liste:\n",
      "        if len(mot)>n:\n",
      "            abr=mot[0:n]\n",
      "        else:\n",
      "            abr=mot\n",
      "        dico[mot]=abr\n",
      "    return OrderedDict(sorted(dico.items(), key=lambda t: t[0]))"
     ],
     "language": "python",
     "metadata": {},
     "outputs": [],
     "prompt_number": 65
    },
    {
     "cell_type": "code",
     "collapsed": false,
     "input": [
      "abrege(jours,3)"
     ],
     "language": "python",
     "metadata": {},
     "outputs": [
      {
       "metadata": {},
       "output_type": "pyout",
       "prompt_number": 66,
       "text": [
        "OrderedDict([('Dimanche', 'Dim'), ('Jeudi', 'Jeu'), ('Lundi', 'Lun'), ('Mardi', 'Mar'), ('Mercredi', 'Mer'), ('Samedi', 'Sam'), ('Vendredi', 'Ven')])"
       ]
      }
     ],
     "prompt_number": 66
    },
    {
     "cell_type": "code",
     "collapsed": false,
     "input": [
      "# on utilise les regexp\n",
      "import re\n",
      "phrase='le python est un serpent sympathique qui aime la salade'\n",
      "re.match('(.*) est (.*) qui (.*)',phrase).groups()"
     ],
     "language": "python",
     "metadata": {},
     "outputs": [
      {
       "metadata": {},
       "output_type": "pyout",
       "prompt_number": 69,
       "text": [
        "('le python', 'un serpent sympathique', 'aime la salade')"
       ]
      }
     ],
     "prompt_number": 69
    },
    {
     "cell_type": "code",
     "collapsed": false,
     "input": [
      "re.match('le (.*) un (.*) qui (.*)',phrase).groups()"
     ],
     "language": "python",
     "metadata": {},
     "outputs": [
      {
       "metadata": {},
       "output_type": "pyout",
       "prompt_number": 70,
       "text": [
        "('python est', 'serpent sympathique', 'aime la salade')"
       ]
      }
     ],
     "prompt_number": 70
    },
    {
     "cell_type": "code",
     "collapsed": false,
     "input": [
      "address='157 SOUTH MAJOR ROAD'\n",
      "address.replace('ROAD','RD')"
     ],
     "language": "python",
     "metadata": {},
     "outputs": [
      {
       "metadata": {},
       "output_type": "pyout",
       "prompt_number": 71,
       "text": [
        "'157 SOUTH MAJOR RD'"
       ]
      }
     ],
     "prompt_number": 71
    },
    {
     "cell_type": "code",
     "collapsed": false,
     "input": [
      "address='157 SOUTH BROAD ROAD'\n",
      "address.replace('ROAD','RD')"
     ],
     "language": "python",
     "metadata": {},
     "outputs": [
      {
       "metadata": {},
       "output_type": "pyout",
       "prompt_number": 72,
       "text": [
        "'157 SOUTH BRD RD'"
       ]
      }
     ],
     "prompt_number": 72
    },
    {
     "cell_type": "code",
     "collapsed": false,
     "input": [
      "# si on suppose que ROAD est toujours en\n",
      "# derni\u00e8re position\n",
      "address.replace('ROAD$','RD')"
     ],
     "language": "python",
     "metadata": {},
     "outputs": [
      {
       "metadata": {},
       "output_type": "pyout",
       "prompt_number": 73,
       "text": [
        "'157 SOUTH BROAD ROAD'"
       ]
      }
     ],
     "prompt_number": 73
    },
    {
     "cell_type": "code",
     "collapsed": false,
     "input": [
      "# on substitue toutes les occurences de 'ROAD'\n",
      "# si il s'agit d'un mot isol\u00e9\n",
      "re.sub(r'\\bROAD\\b','RD',address)"
     ],
     "language": "python",
     "metadata": {},
     "outputs": [
      {
       "metadata": {},
       "output_type": "pyout",
       "prompt_number": 74,
       "text": [
        "'157 SOUTH BROAD RD'"
       ]
      }
     ],
     "prompt_number": 74
    },
    {
     "cell_type": "code",
     "collapsed": false,
     "input": [
      "from urllib import request\n",
      "url='http://www.gutenberg.org/cache/epub/16/pg16.txt'\n",
      "response = request.urlopen(url)\n",
      "PeterPan = response.read().decode('utf8')"
     ],
     "language": "python",
     "metadata": {},
     "outputs": [],
     "prompt_number": 75
    },
    {
     "cell_type": "code",
     "collapsed": false,
     "input": [
      "len(PeterPan)"
     ],
     "language": "python",
     "metadata": {},
     "outputs": [
      {
       "metadata": {},
       "output_type": "pyout",
       "prompt_number": 96,
       "text": [
        "284804"
       ]
      }
     ],
     "prompt_number": 96
    },
    {
     "cell_type": "code",
     "collapsed": false,
     "input": [
      "it=re.finditer('(The [^.]*)\\.',PeterPan)"
     ],
     "language": "python",
     "metadata": {},
     "outputs": [],
     "prompt_number": 111
    },
    {
     "cell_type": "code",
     "collapsed": false,
     "input": [
      "for i in it:\n",
      "    print(i.groups())"
     ],
     "language": "python",
     "metadata": {},
     "outputs": [
      {
       "metadata": {},
       "output_type": "pyout",
       "prompt_number": 110,
       "text": [
        "[<_sre.SRE_Match at 0x10b985e40>,\n",
        " <_sre.SRE_Match at 0x10b985eb8>,\n",
        " <_sre.SRE_Match at 0x10b985dc8>,\n",
        " <_sre.SRE_Match at 0x10b985cd8>,\n",
        " <_sre.SRE_Match at 0x10b985f30>,\n",
        " <_sre.SRE_Match at 0x10b985d50>,\n",
        " <_sre.SRE_Match at 0x10b928dc8>,\n",
        " <_sre.SRE_Match at 0x10b990030>,\n",
        " <_sre.SRE_Match at 0x10b990120>,\n",
        " <_sre.SRE_Match at 0x10b990198>,\n",
        " <_sre.SRE_Match at 0x10b990288>,\n",
        " <_sre.SRE_Match at 0x10b9900a8>,\n",
        " <_sre.SRE_Match at 0x10b990300>,\n",
        " <_sre.SRE_Match at 0x10b990378>,\n",
        " <_sre.SRE_Match at 0x10b9903f0>,\n",
        " <_sre.SRE_Match at 0x10b990468>,\n",
        " <_sre.SRE_Match at 0x10b9904e0>,\n",
        " <_sre.SRE_Match at 0x10b990558>,\n",
        " <_sre.SRE_Match at 0x10b9905d0>,\n",
        " <_sre.SRE_Match at 0x10b990648>,\n",
        " <_sre.SRE_Match at 0x10b9906c0>,\n",
        " <_sre.SRE_Match at 0x10b990738>,\n",
        " <_sre.SRE_Match at 0x10b9907b0>,\n",
        " <_sre.SRE_Match at 0x10b990828>,\n",
        " <_sre.SRE_Match at 0x10b9908a0>,\n",
        " <_sre.SRE_Match at 0x10b990918>,\n",
        " <_sre.SRE_Match at 0x10b990990>,\n",
        " <_sre.SRE_Match at 0x10b990a08>,\n",
        " <_sre.SRE_Match at 0x10b990a80>,\n",
        " <_sre.SRE_Match at 0x10b990af8>,\n",
        " <_sre.SRE_Match at 0x10b990b70>,\n",
        " <_sre.SRE_Match at 0x10b990be8>,\n",
        " <_sre.SRE_Match at 0x10b990c60>,\n",
        " <_sre.SRE_Match at 0x10b990cd8>,\n",
        " <_sre.SRE_Match at 0x10b990d50>,\n",
        " <_sre.SRE_Match at 0x10b990dc8>,\n",
        " <_sre.SRE_Match at 0x10b990e40>,\n",
        " <_sre.SRE_Match at 0x10b990eb8>,\n",
        " <_sre.SRE_Match at 0x10b990f30>,\n",
        " <_sre.SRE_Match at 0x10b993030>,\n",
        " <_sre.SRE_Match at 0x10b9930a8>,\n",
        " <_sre.SRE_Match at 0x10b993120>,\n",
        " <_sre.SRE_Match at 0x10b993198>,\n",
        " <_sre.SRE_Match at 0x10b993210>,\n",
        " <_sre.SRE_Match at 0x10b993288>,\n",
        " <_sre.SRE_Match at 0x10b993300>,\n",
        " <_sre.SRE_Match at 0x10b993378>,\n",
        " <_sre.SRE_Match at 0x10b9933f0>,\n",
        " <_sre.SRE_Match at 0x10b993468>,\n",
        " <_sre.SRE_Match at 0x10b9934e0>,\n",
        " <_sre.SRE_Match at 0x10b993558>,\n",
        " <_sre.SRE_Match at 0x10b9935d0>,\n",
        " <_sre.SRE_Match at 0x10b993648>,\n",
        " <_sre.SRE_Match at 0x10b9936c0>,\n",
        " <_sre.SRE_Match at 0x10b993738>,\n",
        " <_sre.SRE_Match at 0x10b9937b0>,\n",
        " <_sre.SRE_Match at 0x10b993828>,\n",
        " <_sre.SRE_Match at 0x10b9938a0>,\n",
        " <_sre.SRE_Match at 0x10b993918>,\n",
        " <_sre.SRE_Match at 0x10b993990>,\n",
        " <_sre.SRE_Match at 0x10b993a08>,\n",
        " <_sre.SRE_Match at 0x10b993a80>,\n",
        " <_sre.SRE_Match at 0x10b993af8>,\n",
        " <_sre.SRE_Match at 0x10b993b70>,\n",
        " <_sre.SRE_Match at 0x10b993be8>,\n",
        " <_sre.SRE_Match at 0x10b993c60>,\n",
        " <_sre.SRE_Match at 0x10b993cd8>,\n",
        " <_sre.SRE_Match at 0x10b993d50>,\n",
        " <_sre.SRE_Match at 0x10b993dc8>,\n",
        " <_sre.SRE_Match at 0x10b993e40>,\n",
        " <_sre.SRE_Match at 0x10b993eb8>,\n",
        " <_sre.SRE_Match at 0x10b993f30>,\n",
        " <_sre.SRE_Match at 0x10b98e030>,\n",
        " <_sre.SRE_Match at 0x10b98e0a8>,\n",
        " <_sre.SRE_Match at 0x10b98e120>,\n",
        " <_sre.SRE_Match at 0x10b98e198>,\n",
        " <_sre.SRE_Match at 0x10b98e210>,\n",
        " <_sre.SRE_Match at 0x10b98e288>,\n",
        " <_sre.SRE_Match at 0x10b98e300>,\n",
        " <_sre.SRE_Match at 0x10b98e378>,\n",
        " <_sre.SRE_Match at 0x10b98e3f0>,\n",
        " <_sre.SRE_Match at 0x10b98e468>,\n",
        " <_sre.SRE_Match at 0x10b98e4e0>,\n",
        " <_sre.SRE_Match at 0x10b98e558>,\n",
        " <_sre.SRE_Match at 0x10b98e5d0>,\n",
        " <_sre.SRE_Match at 0x10b98e648>,\n",
        " <_sre.SRE_Match at 0x10b98e6c0>,\n",
        " <_sre.SRE_Match at 0x10b98e738>,\n",
        " <_sre.SRE_Match at 0x10b98e7b0>,\n",
        " <_sre.SRE_Match at 0x10b98e828>,\n",
        " <_sre.SRE_Match at 0x10b98e8a0>,\n",
        " <_sre.SRE_Match at 0x10b98e918>,\n",
        " <_sre.SRE_Match at 0x10b98e990>,\n",
        " <_sre.SRE_Match at 0x10b98ea08>,\n",
        " <_sre.SRE_Match at 0x10b98ea80>,\n",
        " <_sre.SRE_Match at 0x10b98eaf8>,\n",
        " <_sre.SRE_Match at 0x10b98eb70>,\n",
        " <_sre.SRE_Match at 0x10b98ebe8>,\n",
        " <_sre.SRE_Match at 0x10b98ec60>,\n",
        " <_sre.SRE_Match at 0x10b98ecd8>,\n",
        " <_sre.SRE_Match at 0x10b98ed50>,\n",
        " <_sre.SRE_Match at 0x10b98edc8>,\n",
        " <_sre.SRE_Match at 0x10b98ee40>,\n",
        " <_sre.SRE_Match at 0x10b98eeb8>,\n",
        " <_sre.SRE_Match at 0x10b98ef30>,\n",
        " <_sre.SRE_Match at 0x10b98f030>,\n",
        " <_sre.SRE_Match at 0x10b98f0a8>,\n",
        " <_sre.SRE_Match at 0x10b98f120>,\n",
        " <_sre.SRE_Match at 0x10b98f198>,\n",
        " <_sre.SRE_Match at 0x10b98f210>,\n",
        " <_sre.SRE_Match at 0x10b98f288>,\n",
        " <_sre.SRE_Match at 0x10b98f300>,\n",
        " <_sre.SRE_Match at 0x10b98f378>,\n",
        " <_sre.SRE_Match at 0x10b98f3f0>,\n",
        " <_sre.SRE_Match at 0x10b98f468>,\n",
        " <_sre.SRE_Match at 0x10b98f4e0>,\n",
        " <_sre.SRE_Match at 0x10b98f558>,\n",
        " <_sre.SRE_Match at 0x10b98f5d0>,\n",
        " <_sre.SRE_Match at 0x10b98f648>,\n",
        " <_sre.SRE_Match at 0x10b98f6c0>,\n",
        " <_sre.SRE_Match at 0x10b98f738>,\n",
        " <_sre.SRE_Match at 0x10b98f7b0>,\n",
        " <_sre.SRE_Match at 0x10b98f828>,\n",
        " <_sre.SRE_Match at 0x10b98f8a0>,\n",
        " <_sre.SRE_Match at 0x10b98f918>,\n",
        " <_sre.SRE_Match at 0x10b98f990>,\n",
        " <_sre.SRE_Match at 0x10b98fa08>,\n",
        " <_sre.SRE_Match at 0x10b98fa80>,\n",
        " <_sre.SRE_Match at 0x10b98faf8>,\n",
        " <_sre.SRE_Match at 0x10b98fb70>,\n",
        " <_sre.SRE_Match at 0x10b98fbe8>,\n",
        " <_sre.SRE_Match at 0x10b98fc60>,\n",
        " <_sre.SRE_Match at 0x10b98fcd8>,\n",
        " <_sre.SRE_Match at 0x10b98fd50>,\n",
        " <_sre.SRE_Match at 0x10b98fdc8>,\n",
        " <_sre.SRE_Match at 0x10b98fe40>,\n",
        " <_sre.SRE_Match at 0x10b98feb8>,\n",
        " <_sre.SRE_Match at 0x10b98ff30>,\n",
        " <_sre.SRE_Match at 0x10b98b030>,\n",
        " <_sre.SRE_Match at 0x10b98b0a8>,\n",
        " <_sre.SRE_Match at 0x10b98b120>,\n",
        " <_sre.SRE_Match at 0x10b98b198>,\n",
        " <_sre.SRE_Match at 0x10b98b210>,\n",
        " <_sre.SRE_Match at 0x10b98b288>,\n",
        " <_sre.SRE_Match at 0x10b98b300>,\n",
        " <_sre.SRE_Match at 0x10b98b378>,\n",
        " <_sre.SRE_Match at 0x10b98b3f0>,\n",
        " <_sre.SRE_Match at 0x10b98b468>,\n",
        " <_sre.SRE_Match at 0x10b98b4e0>,\n",
        " <_sre.SRE_Match at 0x10b98b558>,\n",
        " <_sre.SRE_Match at 0x10b98b5d0>,\n",
        " <_sre.SRE_Match at 0x10b98b648>,\n",
        " <_sre.SRE_Match at 0x10b98b6c0>,\n",
        " <_sre.SRE_Match at 0x10b98b738>,\n",
        " <_sre.SRE_Match at 0x10b98b7b0>,\n",
        " <_sre.SRE_Match at 0x10b98b828>,\n",
        " <_sre.SRE_Match at 0x10b98b8a0>,\n",
        " <_sre.SRE_Match at 0x10b98b918>,\n",
        " <_sre.SRE_Match at 0x10b98b990>,\n",
        " <_sre.SRE_Match at 0x10b98ba08>,\n",
        " <_sre.SRE_Match at 0x10b98ba80>,\n",
        " <_sre.SRE_Match at 0x10b98baf8>]"
       ]
      }
     ],
     "prompt_number": 110
    },
    {
     "cell_type": "code",
     "collapsed": false,
     "input": [],
     "language": "python",
     "metadata": {},
     "outputs": [
      {
       "output_type": "stream",
       "stream": "stdout",
       "text": [
        "('The Project Gutenberg EBook of Peter Pan, by James M',)\n",
        "('The way Mr',)\n",
        "('The gaiety of those romps!\\r\\nAnd gayest of all was Mrs',)\n",
        "('The name stood out in bolder letters than\\r\\nany of the other words, and as Mrs',)\n",
        "('The fire was warm, however, and the nursery dimly lit by three\\r\\nnight-lights, and presently the sewing lay on Mrs',)\n",
        "('The dream by itself would have been a trifle, but while she was dreaming\\r\\nthe window of the nursery blew open, and a boy did drop on the floor',)\n",
        "('The opportunity came a week later, on that never-to-be-forgotten Friday',)\n",
        "('The romp had ended with the appearance of Nana, and most unluckily Mr',)\n",
        "(\"The point is, that there is\\r\\nmore in my glass than in Michael's spoon\",)\n",
        "('The children wept, and Nana ran to him beseechingly, but he waved her\\r\\nback',)\n",
        "('The loveliest tinkle as of golden bells answered him',)\n",
        "('The only sound I hear,\" said Wendy, \"is like a tinkle of bells',)\n",
        "('The sound came from the chest of drawers, and Peter made a merry face',)\n",
        "('The awful\\r\\nthing was that Peter thought this funny',)\n",
        "('The big gun?\"\\r\\n\\r\\n\"Yes',)\n",
        "('The pirates had fired Long Tom at them',)\n",
        "('The roar of it echoed through the mountains, and the echoes seemed to\\r\\ncry savagely, \"Where are they, where are they, where are they?\"\\r\\n\\r\\nThus sharply did the terrified three learn the difference between an\\r\\nisland of make-believe and the same island come true',)\n",
        "('The fairies take\\r\\nan hour longer in the morning, the beasts attend to their young, the\\r\\nredskins feed heavily for six days and nights, and when pirates and\\r\\nlost boys meet they merely bite their thumbs at each other',)\n",
        "('The lost boys were out looking for Peter, the pirates were out looking\\r\\nfor the lost boys, the redskins were out looking for the pirates, and\\r\\nthe beasts were out looking for the redskins',)\n",
        "('The boys on the island vary, of course,\\r\\nin numbers, according as they get killed and so on; and when they seem\\r\\nto be growing up, which is against the rules, Peter thins them out; but\\r\\nat this time there were six of them, counting the twins as two',)\n",
        "('The first to pass is Tootles, not the least brave but the most\\r\\nunfortunate of all that gallant band',)\n",
        "('The boys vanish in the gloom, and after a pause, but not a long pause,\\r\\nfor things go briskly on the island, come the pirates on their track',)\n",
        "('The only sound to be\\r\\nheard is their somewhat heavy breathing',)\n",
        "('The fact is that they are all a\\r\\nlittle fat just now after the heavy gorging, but in time they will work\\r\\nthis off',)\n",
        "('The redskins disappear as they have come like shadows, and soon their\\r\\nplace is taken by the beasts, a great and motley procession: lions,\\r\\ntigers, bears, and the innumerable smaller savage things that flee\\r\\nfrom them, for every kind of beast, and, more particularly, all the\\r\\nman-eaters, live cheek by jowl on the favoured island',)\n",
        "('The crocodile passes, but soon the boys appear again, for the procession\\r\\nmust continue indefinitely until one of the parties stops or changes its\\r\\npace',)\n",
        "('The first to fall out of the moving circle was the boys',)\n",
        "(\"The flag o' skull and bones,\\r\\n     A merry hour, a hempen rope,\\r\\n     And hey for Davy Jones\",)\n",
        "('The pirates disappeared among the trees, and in a moment their Captain\\r\\nand Smee were alone',)\n",
        "('The pirates looked at each other',)\n",
        "('The pirates listened grimly, and then replaced the mushroom',)\n",
        "('The silly\\r\\nmoles had not the sense to see that they did not need a door apiece',)\n",
        "('The crocodile!\" he gasped, and bounded away, followed by his bo\\'sun',)\n",
        "('The tongues of the pursuers were\\r\\nhanging out; the baying of them was horrible',)\n",
        "('The next moment is the long\\r\\none, but victory came quickly, for as the boys advanced upon them in the\\r\\nterrible attitude, the wolves dropped their tails and fled',)\n",
        "('The jealous\\r\\nfairy had now cast off all disguise of friendship, and was darting\\r\\nat her victim from every direction, pinching savagely each time she\\r\\ntouched',)\n",
        "('The Wendy lady lives',)\n",
        "('The astounded brothers were dragged away to hack and hew and carry',)\n",
        "('The difference between him and the other boys at such a time was that\\r\\nthey knew it was make-believe, while to him make-believe and true were\\r\\nexactly the same thing',)\n",
        "('The littlest ever seen,\\r\\n     With funny little red walls\\r\\n     And roof of mossy green',)\n",
        "(\"The babes are at the door,\\r\\n     We cannot make ourselves, you know,\\r\\n     'cos we've been made before\",)\n",
        "('The house was quite beautiful, and no doubt Wendy was very cosy\\r\\nwithin, though, of course, they could no longer see her',)\n",
        "('The little house was so\\r\\npleased to have such a capital chimney that, as if to say thank you,\\r\\nsmoke immediately began to come out of the hat',)\n",
        "('The door opened and a lady came out',)\n",
        "('The little house looked so cosy and safe in the darkness, with\\r\\na bright light showing through its blinds, and the chimney smoking\\r\\nbeautifully, and Peter standing on guard',)\n",
        "('The bed was tilted against the wall by day, and let down at\\r\\n6:30, when it filled nearly half the room; and all the boys slept in it,\\r\\nexcept Michael, lying like sardines in a tin',)\n",
        "('The couch, as she always called it, was\\r\\na genuine Queen Mab, with club legs; and she varied the bedspreads\\r\\naccording to what fruit-blossom was in season',)\n",
        "('The cooking, I can tell you, kept her nose to the pot, and\\r\\neven if there was nothing in it, even if there was no pot, she had to\\r\\nkeep watching that it came aboil just the same',)\n",
        "('The other boys thought this awfully interesting, and insisted on\\r\\njoining, and they made slates for themselves, and sat round the table,\\r\\nwriting and thinking hard about the questions she had written on another\\r\\nslate and passed round',)\n",
        "('The Characters of Father and Mother compared',)\n",
        "('The extraordinary upshot of this adventure was--but we have not decided\\r\\nyet that this is the adventure we are to narrate',)\n",
        "('The best way will be to toss\\r\\nfor it',)\n",
        "('The children often spent long summer days on this lagoon, swimming or\\r\\nfloating most of the time, playing the mermaid games in the water,\\r\\nand so forth',)\n",
        "('The most haunting time at which to see them is at the turn of the moon,\\r\\nwhen they utter strange wailing cries; but the lagoon is dangerous for\\r\\nmortals then, and until the evening of which we have now to tell, Wendy\\r\\nhad never seen the lagoon by moonlight, less from fear, for of course\\r\\nPeter would have accompanied her, than because she had strict rules\\r\\nabout every one being in bed by seven',)\n",
        "('The bubbles of many\\r\\ncolours made in rainbow water they treat as balls, hitting them gaily\\r\\nfrom one to another with their tails, and trying to keep them in the\\r\\nrainbow till they burst',)\n",
        "('The goals are at each end of the rainbow, and\\r\\nthe keepers only are allowed to use their hands',)\n",
        "('The rock was\\r\\nnot much larger than their great bed, but of course they all knew how\\r\\nnot to take up much room, and they were dozing, or at least lying with\\r\\ntheir eyes shut, and pinching occasionally when they thought Wendy was\\r\\nnot looking',)\n",
        "('The others came closer to him',)\n",
        "('The order came sharp and incisive',)\n",
        "('The boat drew nearer',)\n",
        "('The captain!\" said the pirates, staring at each other in surprise',)\n",
        "('The real Hook was also in the water',)\n",
        "('The two pirates were very curious to know what had brought their captain\\r\\nto them, but he sat with his head on his hook in a position of profound\\r\\nmelancholy',)\n",
        "('The game\\'s up,\" he cried, \"those boys have found a mother',)\n",
        "('The nest must have fallen into the water, but would the mother\\r\\ndesert her eggs? No',)\n",
        "('The fight was short and sharp',)\n",
        "('The dinghy drifted away',)\n",
        "('The corkscrew of Smee got Tootles in the fourth rib, but\\r\\nhe was himself pinked [nicked] in turn by Curly',)\n",
        "('The others were all brave boys, and they must not be blamed for backing\\r\\nfrom the pirate captain',)\n",
        "('The rock was slippery as a ball, and they had to crawl rather than\\r\\nclimb',)\n",
        "('The rock was very small now; soon it would be submerged',)\n",
        "('The last sound Peter heard before he was quite alone were the mermaids\\r\\nretiring one by one to their bedchambers under the sea',)\n",
        "('The Never bird became irritated; they have very short tempers',)\n",
        "('The bird covered her face with her wings, so as not to see the last of\\r\\nthem; but she could not help peeping between the feathers',)\n",
        "('The children had discovered the glittering hoard, and when in\\r\\na mischievous mood used to fling showers of moidores, diamonds, pearls\\r\\nand pieces of eight to the gulls, who pounced upon them for food, and\\r\\nthen flew away, raging at the scurvy trick that had been played upon\\r\\nthem',)\n",
        "('The stave was still there, and on it Starkey had hung his hat, a\\r\\ndeep tarpaulin, watertight, with a broad brim',)\n",
        "('The Never bird saw at once what he was up to, and screamed her\\r\\nadmiration of him; and, alas, Peter crowed his agreement with her',)\n",
        "('The great white father,\" he would say to them in a very lordly manner,\\r\\nas they grovelled at his feet, \"is glad to see the Piccaninny warriors\\r\\nprotecting his wigwam from the pirates',)\n",
        "('The day, as\\r\\nif quietly gathering its forces, had been almost uneventful, and now the\\r\\nredskins in their blankets were at their posts above, while, below, the\\r\\nchildren were having their evening meal; all except Peter, who had gone\\r\\nout to get the time',)\n",
        "('The way you got the time on the island was to find\\r\\nthe crocodile, and then stay near him till the clock struck',)\n",
        "('The meal happened to be a make-believe tea, and they sat around the\\r\\nboard, guzzling in their greed; and really, what with their chatter and\\r\\nrecriminations, the noise, as Wendy said, was positively deafening',)\n",
        "('The hateful telling broke out again',)\n",
        "('The twins began with cheese-cakes',)\n",
        "('The first twin came to Peter',)\n",
        "('The stories they told, before it was time for Wendy\\'s\\r\\ngood-night story! Even Slightly tried to tell a story that night, but\\r\\nthe beginning was so fearfully dull that it appalled not only the others\\r\\nbut himself, and he said happily:\\r\\n\\r\\n\"Yes, it is a dull beginning',)\n",
        "('The gentleman\\'s name,\" Wendy continued, \"was Mr',)\n",
        "('The toads!\\r\\n\\r\\nStill it is best to be careful; and no one knows so quickly as a child\\r\\nwhen he should give in',)\n",
        "('The invitation was meant specially for Peter, but each of the boys was\\r\\nthinking exclusively of himself, and at once they jumped with joy',)\n",
        "('The awful cynicism of this made an uncomfortable impression, and most\\r\\nof them began to look rather doubtful',)\n",
        "('The pirate attack had been a complete surprise: a sure proof that the\\r\\nunscrupulous Hook had conducted it improperly, for to surprise redskins\\r\\nfairly is beyond the wit of the white man',)\n",
        "('The white men have in the meantime made a rude stockade on\\r\\nthe summit of yonder undulating ground, at the foot of which a stream\\r\\nruns, for it is destruction to be too far from water',)\n",
        "('The brushwood\\r\\ncloses behind them, as silently as sand into which a mole has dived',)\n",
        "('The cry is answered by other\\r\\nbraves; and some of them do it even better than the coyotes, who are not\\r\\nvery good at it',)\n",
        "('The Piccaninnies, on their part, trusted implicitly to his honour, and\\r\\ntheir whole action of the night stands out in marked contrast to his',)\n",
        "(\"The night's work was not yet over, for it was not the redskins he had\\r\\ncome out to destroy; they were but the bees to be smoked, so that he\\r\\nshould get at the honey\",)\n",
        "('The truth is that there was\\r\\na something about Peter which goaded the pirate captain to frenzy',)\n",
        "('The question now was how to get down the trees, or how to get his dogs\\r\\ndown? He ran his greedy eyes over them, searching for the thinnest\\r\\nones',)\n",
        "('The pandemonium\\r\\nabove has ceased almost as suddenly as it arose, passed like a fierce\\r\\ngust of wind; but they know that in the passing it has determined their\\r\\nfate',)\n",
        "(\"The pirates, listening avidly at the mouths of the trees, heard the\\r\\nquestion put by every boy, and alas, they also heard Peter's answer\",)\n",
        "('The tom-tom,\" the miscreants heard Peter cry; \"an Indian victory!\"\\r\\n\\r\\nThe doomed children answered with a cheer that was music to the black\\r\\nhearts above, and almost immediately they repeated their good-byes\\r\\nto Peter',)\n",
        "('The more quickly this horror is disposed of the better',)\n",
        "('The first to\\r\\nemerge from his tree was Curly',)\n",
        "('The pirates kicked him in their rage, just as you kick the\\r\\nparcel (though in fairness you should kick the string); and strange\\r\\nto say it was Hook who told them to belay their violence',)\n",
        "('The children were flung into\\r\\nit, four stout pirates raised it on their shoulders, the others fell in\\r\\nbehind, and singing the hateful pirate chorus the strange procession\\r\\nset off through the wood',)\n",
        "(\"The first thing he did on finding himself alone in the fast falling\\r\\nnight was to tiptoe to Slightly's tree, and make sure that it provided\\r\\nhim with a passage\",)\n",
        "('The man was not wholly evil; he loved flowers\\r\\n(I have been told) and sweet music (he was himself no mean performer on\\r\\nthe harpsichord); and, let it be frankly admitted, the idyllic nature of\\r\\nthe scene stirred him profoundly',)\n",
        "(\"The red in his eye had caught sight of Peter's\\r\\nmedicine standing on a ledge within easy reach\",)\n",
        "('The light guttered [burned to edges] and went out,\\r\\nleaving the tenement in darkness; but still he slept',)\n",
        "('The cup was poisoned',)\n",
        "('The clapping stopped suddenly; as if countless mothers had rushed to\\r\\ntheir nurseries to see what on earth was happening; but already Tink was\\r\\nsaved',)\n",
        "('The moon was riding in a cloudy heaven when Peter rose from his tree,\\r\\nbegirt [belted] with weapons and wearing little else, to set out upon\\r\\nhis perilous quest',)\n",
        "('The morning was needed to search\\r\\nfor such guidance, and he could not wait',)\n",
        "('The upper world had called\\r\\nhim, but would give no help',)\n",
        "('The crocodile passed him, but not another living thing, not a sound, not\\r\\na movement; and yet he knew well that sudden death might be at the next\\r\\ntree, or stalking him from behind',)\n",
        "('The unhappy Hook was as impotent [powerless] as he was damp, and he fell\\r\\nforward like a cut flower',)\n",
        "('The wretched prisoners were dragged from the hold, all except Wendy,\\r\\nand ranged in line in front of him',)\n",
        "('The infuriated pirates buffeted them in the mouth; and Hook roared out,\\r\\n\"That seals your doom',)\n",
        "('The sound came steadily nearer; and in advance of it came this ghastly\\r\\nthought, \"The crocodile is about to board the ship!\"\\r\\n\\r\\nEven the iron claw hung inactive; as if knowing that it was no intrinsic\\r\\npart of what the attacking force wanted',)\n",
        "('The pirates respectfully cleared a passage for him, and it was only\\r\\nwhen he brought up against the bulwarks that he spoke',)\n",
        "('The crocodile was among those who heard the sound,\\r\\nand it followed him, though whether with the purpose of regaining what\\r\\nit had lost, or merely as a friend under the belief that it was again\\r\\nticking itself, will never be certainly known, for, like slaves to a\\r\\nfixed idea, it was a stupid beast',)\n",
        "('The crocodile! No sooner did Peter remember it than he heard the\\r\\nticking',)\n",
        "('The cabin! Peter was in the cabin! The children gazed at each other',)\n",
        "('The Italian Cecco hesitated for a moment and then swung into the cabin',)\n",
        "('The matter wi\\' him is he\\'s dead, stabbed,\" replied Cecco in a hollow\\r\\nvoice',)\n",
        "('The cabin\\'s as black as a pit,\" Cecco said, almost gibbering, \"but\\r\\nthere is something terrible in there: the thing you heard crowing',)\n",
        "('The exultation of the boys, the lowering looks of the pirates, both were\\r\\nseen by Hook',)\n",
        "('The ship\\'s doomed!\" At this the children could\\r\\nnot resist raising a cheer',)\n",
        "('The boys, pretending to struggle, were pushed into the cabin\\r\\nand the door was closed on them',)\n",
        "('The others\\r\\ndrew back and formed a ring around them',)\n",
        "('The other boys were flying around\\r\\nhim now, flouting, scornful; and he staggered about the deck striking up\\r\\nat them impotently, his mind was no longer with them; it was slouching\\r\\nin the playing fields of long ago, or being sent up [to the headmaster]\\r\\nfor good, or watching the wall-game from a famous wall',)\n",
        "('The lateness of the hour was almost the biggest thing of all',)\n",
        "(\"The rest were tars [sailors]\\r\\nbefore the mast, and lived in the fo'c'sle\",)\n",
        "('The bluff strident words\\r\\nstruck the note sailors understood, and they cheered him lustily',)\n",
        "(\"The general feeling was that Peter was honest just now to\\r\\nlull Wendy's suspicions, but that there might be a change when the new\\r\\nsuit was ready, which, against her will, she was making for him out of\\r\\nsome of Hook's wickedest garments\",)\n",
        "('The only change to be seen in the night-nursery is that between nine\\r\\nand six the kennel is no longer there',)\n",
        "('The corner of her mouth, where one looks first, is almost\\r\\nwithered up',)\n",
        "('The window must always be left open\\r\\nfor them, always, always',)\n",
        "('The reason was so simple: \"I\\'m fond of her too',)\n",
        "('The children waited\\r\\nfor her cry of joy, but it did not come',)\n",
        "('The first twin was the proud one, and he asked, flushing, \"Do you think\\r\\nwe should be too much of a handful, sir? Because, if so, we can go\\r\\naway',)\n",
        "('The fairies are to put it\\r\\nhigh up among the tree tops where they sleep at nights',)\n",
        "('The kiss that had been for no one else, Peter took quite\\r\\neasily',)\n",
        "(\"The bearded\\r\\nman who doesn't know any story to tell his children was once John\",)\n",
        "('The way I flew? Do you know, Jane, I sometimes wonder whether I ever\\r\\ndid really fly',)\n",
        "('The dear old days when I could fly!\"\\r\\n\\r\\n\"Why can\\'t you fly now, mother?\"\\r\\n\\r\\n\"Because I am grown up, dearest',)\n",
        "('The foolish fellow,\" says Wendy, \"tried to stick it on with soap, and\\r\\nwhen he could not he cried, and that woke me, and I sewed it on for\\r\\nhim',)\n",
        "(\"The last thing he ever said to me was, 'Just always be waiting for me,\\r\\nand then some night you will hear me crowing\",)\n",
        "('The Project Gutenberg Literary Archive Foundation (\"the Foundation\"\\r\\nor PGLAF), owns a compilation copyright in the collection of Project\\r\\nGutenberg-tm electronic works',)\n",
        "('The copyright laws of the place where you are located also govern\\r\\nwhat you can do with this work',)\n",
        "('The Foundation makes no representations concerning\\r\\nthe copyright status of any work in any country outside the United\\r\\nStates',)\n",
        "('The following sentence, with active links to, or other immediate\\r\\naccess to, the full Project Gutenberg-tm License must appear prominently\\r\\nwhenever any copy of a Project Gutenberg-tm work (any work on which the\\r\\nphrase \"Project Gutenberg\" appears, or with which the phrase \"Project\\r\\nGutenberg\" is associated) is accessed, displayed, performed, viewed,\\r\\ncopied or distributed:\\r\\n\\r\\nThis eBook is for the use of anyone anywhere at no cost and with\\r\\nalmost no restrictions whatsoever',)\n",
        "('The fee is\\r\\n     owed to the owner of the Project Gutenberg-tm trademark, but he\\r\\n     has agreed to donate royalties under this paragraph to the\\r\\n     Project Gutenberg Literary Archive Foundation',)\n",
        "('The person or entity that provided you with\\r\\nthe defective work may elect to provide a replacement copy in lieu of a\\r\\nrefund',)\n",
        "('The invalidity or unenforceability of any\\r\\nprovision of this agreement shall not void the remaining provisions',)\n",
        "('The Project Gutenberg Literary Archive Foundation is a non profit\\r\\n501(c)(3) educational corporation organized under the laws of the\\r\\nstate of Mississippi and granted tax exempt status by the Internal\\r\\nRevenue Service',)\n",
        "(\"The Foundation's EIN or federal tax identification\\r\\nnumber is 64-6221541\",)\n",
        "(\"The Foundation's principal office is located at 4557 Melan Dr\",)\n",
        "('The Foundation is committed to complying with the laws regulating\\r\\ncharities and charitable donations in all 50 states of the United\\r\\nStates',)\n",
        "('The replaced older file is renamed',)\n",
        "('The year of a release date is no longer part\\r\\nof the directory path',)\n",
        "('The path is based on the etext number (which is\\r\\nidentical to the filename)',)\n",
        "('The path to the file is made up of single\\r\\ndigits corresponding to all but the last digit in the filename',)\n"
       ]
      }
     ],
     "prompt_number": 108
    },
    {
     "cell_type": "code",
     "collapsed": false,
     "input": [],
     "language": "python",
     "metadata": {},
     "outputs": []
    }
   ],
   "metadata": {}
  }
 ]
}