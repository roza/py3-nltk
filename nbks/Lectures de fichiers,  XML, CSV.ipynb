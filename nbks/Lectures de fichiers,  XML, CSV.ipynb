{
 "metadata": {
  "name": ""
 },
 "nbformat": 3,
 "nbformat_minor": 0,
 "worksheets": [
  {
   "cells": [
    {
     "cell_type": "code",
     "collapsed": false,
     "input": [
      "%%file exemple.txt\n",
      "c'est un petit fichier \n",
      "tout simple\n",
      "que nous allons relire \n",
      "en python 3 ligne par ligne\n"
     ],
     "language": "python",
     "metadata": {},
     "outputs": [],
     "prompt_number": "*"
    },
    {
     "cell_type": "code",
     "collapsed": false,
     "input": [
      "%%file exemple.txt\n",
      "exemple est un petit fichier \n",
      "tout simple que nous allons \n",
      "relire en python 3 ligne par ligne"
     ],
     "language": "python",
     "metadata": {},
     "outputs": [
      {
       "output_type": "stream",
       "stream": "stdout",
       "text": [
        "Overwriting exemple.txt\n"
       ]
      }
     ],
     "prompt_number": 25
    },
    {
     "cell_type": "code",
     "collapsed": false,
     "input": [
      "f = open('exemple.txt','r')\n",
      "for line in f:\n",
      "    print(line)\n",
      "    if '\\n' == line[-1]:\n",
      "        line = line[:-1]\n",
      "        "
     ],
     "language": "python",
     "metadata": {},
     "outputs": [
      {
       "output_type": "stream",
       "stream": "stdout",
       "text": [
        "exemple est un petit fichier \n",
        "\n",
        "tout simple que nous allons \n",
        "\n",
        "relire en python 3 ligne par ligne\n"
       ]
      }
     ],
     "prompt_number": 26
    },
    {
     "cell_type": "code",
     "collapsed": false,
     "input": [
      "f = open('exemple.txt','r')\n",
      "for line in f:\n",
      "    print(line.rstrip())\n",
      "    if '\\n' == line[-1]:\n",
      "        line = line[:-1]\n",
      "        "
     ],
     "language": "python",
     "metadata": {},
     "outputs": [
      {
       "output_type": "stream",
       "stream": "stdout",
       "text": [
        "exemple est un petit fichier\n",
        "tout simple que nous allons\n",
        "relire en python 3 ligne par ligne\n"
       ]
      }
     ],
     "prompt_number": 27
    },
    {
     "cell_type": "code",
     "collapsed": false,
     "input": [
      "urlFeed='http://www.diveintopython3.net/examples/feed.xml'\n",
      "import xml.etree.ElementTree as etree\n",
      "tree = etree.parse('feed.xml') \n",
      "root = tree.getroot() \n",
      "root.tag"
     ],
     "language": "python",
     "metadata": {},
     "outputs": [
      {
       "metadata": {},
       "output_type": "pyout",
       "prompt_number": 39,
       "text": [
        "'{http://www.w3.org/2005/Atom}feed'"
       ]
      }
     ],
     "prompt_number": 39
    },
    {
     "cell_type": "code",
     "collapsed": false,
     "input": [
      "len(root)"
     ],
     "language": "python",
     "metadata": {},
     "outputs": [
      {
       "metadata": {},
       "output_type": "pyout",
       "prompt_number": 40,
       "text": [
        "6"
       ]
      }
     ],
     "prompt_number": 40
    },
    {
     "cell_type": "code",
     "collapsed": false,
     "input": [
      "for child in root:\n",
      "    print(child)"
     ],
     "language": "python",
     "metadata": {},
     "outputs": [
      {
       "output_type": "stream",
       "stream": "stdout",
       "text": [
        "<Element '{http://www.w3.org/2005/Atom}title' at 0x10861ce68>\n",
        "<Element '{http://www.w3.org/2005/Atom}subtitle' at 0x10861cd60>\n",
        "<Element '{http://www.w3.org/2005/Atom}id' at 0x10861c998>\n",
        "<Element '{http://www.w3.org/2005/Atom}updated' at 0x10861c628>\n",
        "<Element '{http://www.w3.org/2005/Atom}link' at 0x108627680>\n",
        "<Element '{http://www.w3.org/2005/Atom}entry' at 0x108627730>\n"
       ]
      }
     ],
     "prompt_number": 41
    },
    {
     "cell_type": "code",
     "collapsed": false,
     "input": [
      "root.attrib"
     ],
     "language": "python",
     "metadata": {},
     "outputs": [
      {
       "metadata": {},
       "output_type": "pyout",
       "prompt_number": 42,
       "text": [
        "{'{http://www.w3.org/XML/1998/namespace}lang': 'en'}"
       ]
      }
     ],
     "prompt_number": 42
    },
    {
     "cell_type": "code",
     "collapsed": false,
     "input": [
      "root[4].attrib"
     ],
     "language": "python",
     "metadata": {},
     "outputs": [
      {
       "metadata": {},
       "output_type": "pyout",
       "prompt_number": 45,
       "text": [
        "{'href': 'http://diveintomark.org/', 'rel': 'alternate', 'type': 'text/html'}"
       ]
      }
     ],
     "prompt_number": 45
    },
    {
     "cell_type": "code",
     "collapsed": false,
     "input": [
      "root.findall('{http://www.w3.org/2005/Atom}entry') "
     ],
     "language": "python",
     "metadata": {},
     "outputs": [
      {
       "metadata": {},
       "output_type": "pyout",
       "prompt_number": 46,
       "text": [
        "[<Element '{http://www.w3.org/2005/Atom}entry' at 0x108627730>]"
       ]
      }
     ],
     "prompt_number": 46
    },
    {
     "cell_type": "markdown",
     "metadata": {},
     "source": [
      "Etude de \"http://rss.lemonde.fr/c/205/f/3050/index.rss\""
     ]
    },
    {
     "cell_type": "code",
     "collapsed": false,
     "input": [
      "alaune='http://rss.lemonde.fr/c/205/f/3050/index.rss'\n",
      "from urllib import request\n",
      "\n",
      "response = request.urlopen(alaune)\n",
      "texte=response.read().decode('utf8')\n",
      "\n",
      "texte"
     ],
     "language": "python",
     "metadata": {},
     "outputs": [
      {
       "metadata": {},
       "output_type": "pyout",
       "prompt_number": 54,
       "text": [
        "'<?xml version=\\'1.0\\' encoding=\\'UTF-8\\'?><?xml-stylesheet type=\\'text/xsl\\' href=\\'http://rss.lemonde.fr/xsl/fr/rss.xsl\\'?>\\r\\n<rss xmlns:itunes=\"http://www.itunes.com/dtds/podcast-1.0.dtd\" xmlns:dc=\"http://purl.org/dc/elements/1.1/\" xmlns:taxo=\"http://purl.org/rss/1.0/modules/taxonomy/\" xmlns:rdf=\"http://www.w3.org/1999/02/22-rdf-syntax-ns#\" xmlns:atom=\"http://www.w3.org/2005/Atom\" version=\"2.0\"><channel><atom:link href=\"http://www.lemonde.fr/rss/une.xml\" rel=\"self\" type=\"application/rss+xml\" /><title>Le Monde.fr - Actualit\u00e9 \u00e0 la Une</title><link>http://www.lemonde.fr/rss/une.xml</link><description>Le Monde.fr - 1er site d\\'information. Les articles du journal et toute l\\'actualit\u00e9 en continu : International, France, Soci\u00e9t\u00e9, Economie, Culture, Environnement, Blogs ...</description><language>en</language><copyright>Copyright Le Monde.fr</copyright><pubDate>Wed, 15 Jan 2014 23:15:50 GMT</pubDate><lastBuildDate>Wed, 15 Jan 2014 23:15:50 GMT</lastBuildDate><ttl>15</ttl><image><title>Le Monde.fr - Actualit\u00e9 \u00e0 la Une</title><url>http://www.lemonde.frmmpub/img/lgo/lemondefr_rss.gif</url><link>http://www.lemonde.fr/rss/une.xml</link></image><item><title>Coupe de la Ligue : Lyon bat l\\'OM et se qualifie pour les demi-finales</title><link>http://www.lemonde.fr/sport/article/2014/01/15/coupe-de-la-ligue-lyon-en-demi-finales-confirme-son-redressement_4348733_3242.html#xtor=RSS-3208</link><description>Lyon, gr\u00e2ce \u00e0 deux buts de Yoann Gourcuff et Baf\u00e9timbi Gomis, s\\'est qualifi\u00e9 pour les demi-finales de la coupe de la Ligue apr\u00e8s sa victoire m\u00e9rit\u00e9e sur Marseille (2-1), mercredi sur son terrain de Gerland au terme d\\'un match assez bien contr\u00f4l\u00e9 par l\\'OL.&lt;img width=\\'1\\' height=\\'1\\' src=\\'http://rss.lemonde.fr/c/205/f/3050/s/35f41e83/sc/12/mf.gif\\' border=\\'0\\'/&gt;&lt;br clear=\\'all\\'/&gt;&lt;br/&gt;&lt;br/&gt;&lt;a href=\"http://da.feedsportal.com/r/186528910717/u/75/f/3050/c/205/s/35f41e83/sc/12/rc/1/rc.htm\"&gt;&lt;img src=\"http://da.feedsportal.com/r/186528910717/u/75/f/3050/c/205/s/35f41e83/sc/12/rc/1/rc.img\" border=\"0\"/&gt;&lt;/a&gt;&lt;br/&gt;&lt;a href=\"http://da.feedsportal.com/r/186528910717/u/75/f/3050/c/205/s/35f41e83/sc/12/rc/2/rc.htm\"&gt;&lt;img src=\"http://da.feedsportal.com/r/186528910717/u/75/f/3050/c/205/s/35f41e83/sc/12/rc/2/rc.img\" border=\"0\"/&gt;&lt;/a&gt;&lt;br/&gt;&lt;a href=\"http://da.feedsportal.com/r/186528910717/u/75/f/3050/c/205/s/35f41e83/sc/12/rc/3/rc.htm\"&gt;&lt;img src=\"http://da.feedsportal.com/r/186528910717/u/75/f/3050/c/205/s/35f41e83/sc/12/rc/3/rc.img\" border=\"0\"/&gt;&lt;/a&gt;&lt;br/&gt;&lt;br/&gt;&lt;a href=\"http://da.feedsportal.com/r/186528910717/u/75/f/3050/c/205/s/35f41e83/a2.htm\"&gt;&lt;img src=\"http://da.feedsportal.com/r/186528910717/u/75/f/3050/c/205/s/35f41e83/a2.img\" border=\"0\"/&gt;&lt;/a&gt;&lt;img width=\"1\" height=\"1\" src=\"http://pi.feedsportal.com/r/186528910717/u/75/f/3050/c/205/s/35f41e83/a2t.img\" border=\"0\"/&gt;</description><enclosure url=\"http://s1.lemde.fr/image/2014/01/15/0x0/4348734_3_545e_maio-lemina-de-marseille-et-clement-grenier_723c702bbc379944b291872a809bc612.jpg\" length=\"53319\" type=\"image/jpeg\" /><pubDate>Wed, 15 Jan 2014 23:29:47 GMT</pubDate><guid isPermaLink=\"false\">http://www.lemonde.fr/tiny/4348733/</guid></item><item><title>Euro de handball : la France arrache la victoire face \u00e0 une Pologne vaillante</title><link>http://www.lemonde.fr/sport/article/2014/01/15/euro-de-handball-la-france-arrache-la-victoire-face-a-une-pologne-vaillante_4348727_3242.html#xtor=RSS-3208</link><description>La France est venue \u00e0 bout de la Pologne (28-27) et a d\u00e9croch\u00e9 son ticket pour la deuxi\u00e8me phase de l\\'Euro-2014 messieurs de handball, mercredi \u00e0 Aarhus.&lt;img width=\\'1\\' height=\\'1\\' src=\\'http://rss.lemonde.fr/c/205/f/3050/s/35f42a3c/sc/13/mf.gif\\' border=\\'0\\'/&gt;&lt;br clear=\\'all\\'/&gt;&lt;br/&gt;&lt;br/&gt;&lt;a href=\"http://da.feedsportal.com/r/186528950308/u/75/f/3050/c/205/s/35f42a3c/sc/13/rc/1/rc.htm\"&gt;&lt;img src=\"http://da.feedsportal.com/r/186528950308/u/75/f/3050/c/205/s/35f42a3c/sc/13/rc/1/rc.img\" border=\"0\"/&gt;&lt;/a&gt;&lt;br/&gt;&lt;a href=\"http://da.feedsportal.com/r/186528950308/u/75/f/3050/c/205/s/35f42a3c/sc/13/rc/2/rc.htm\"&gt;&lt;img src=\"http://da.feedsportal.com/r/186528950308/u/75/f/3050/c/205/s/35f42a3c/sc/13/rc/2/rc.img\" border=\"0\"/&gt;&lt;/a&gt;&lt;br/&gt;&lt;a href=\"http://da.feedsportal.com/r/186528950308/u/75/f/3050/c/205/s/35f42a3c/sc/13/rc/3/rc.htm\"&gt;&lt;img src=\"http://da.feedsportal.com/r/186528950308/u/75/f/3050/c/205/s/35f42a3c/sc/13/rc/3/rc.img\" border=\"0\"/&gt;&lt;/a&gt;&lt;br/&gt;&lt;br/&gt;&lt;a href=\"http://da.feedsportal.com/r/186528950308/u/75/f/3050/c/205/s/35f42a3c/a2.htm\"&gt;&lt;img src=\"http://da.feedsportal.com/r/186528950308/u/75/f/3050/c/205/s/35f42a3c/a2.img\" border=\"0\"/&gt;&lt;/a&gt;&lt;img width=\"1\" height=\"1\" src=\"http://pi.feedsportal.com/r/186528950308/u/75/f/3050/c/205/s/35f42a3c/a2t.img\" border=\"0\"/&gt;</description><enclosure url=\"http://s2.lemde.fr/image/2014/01/15/0x0/4348728_3_f573_la-france-est-venue-a-bout-de-la-pologne_931a3a483e610d095f23a15b30ff10ff.jpg\" length=\"91647\" type=\"image/jpeg\" /><pubDate>Wed, 15 Jan 2014 22:46:46 GMT</pubDate><guid isPermaLink=\"false\">http://www.lemonde.fr/tiny/4348727/</guid></item><item><title>Egypte : fin du r\u00e9f\u00e9rendum, attendu comme un pl\u00e9biscite pour le chef de l\\'arm\u00e9e</title><link>http://www.lemonde.fr/afrique/article/2014/01/15/egypte-fin-du-referendum-attendu-comme-un-plebiscite-pour-le-chef-de-l-armee_4348723_3212.html#xtor=RSS-3208</link><description>Le pouvoir, qui a destitu\u00e9 le pr\u00e9sident islamiste Mohamed Morsi d\u00e9but juillet, esp\u00e8re plus de 50 % de participation pour l\u00e9gitimer la candidature \u00e0 la pr\u00e9sidentielle du nouvel homme fort du pays, le g\u00e9n\u00e9ral Abdel Fattah Al-Sissi.&lt;img width=\\'1\\' height=\\'1\\' src=\\'http://rss.lemonde.fr/c/205/f/3050/s/35f4360b/sc/11/mf.gif\\' border=\\'0\\'/&gt;&lt;br clear=\\'all\\'/&gt;&lt;br/&gt;&lt;br/&gt;&lt;a href=\"http://da.feedsportal.com/r/186528936056/u/75/f/3050/c/205/s/35f4360b/sc/11/rc/1/rc.htm\"&gt;&lt;img src=\"http://da.feedsportal.com/r/186528936056/u/75/f/3050/c/205/s/35f4360b/sc/11/rc/1/rc.img\" border=\"0\"/&gt;&lt;/a&gt;&lt;br/&gt;&lt;a href=\"http://da.feedsportal.com/r/186528936056/u/75/f/3050/c/205/s/35f4360b/sc/11/rc/2/rc.htm\"&gt;&lt;img src=\"http://da.feedsportal.com/r/186528936056/u/75/f/3050/c/205/s/35f4360b/sc/11/rc/2/rc.img\" border=\"0\"/&gt;&lt;/a&gt;&lt;br/&gt;&lt;a href=\"http://da.feedsportal.com/r/186528936056/u/75/f/3050/c/205/s/35f4360b/sc/11/rc/3/rc.htm\"&gt;&lt;img src=\"http://da.feedsportal.com/r/186528936056/u/75/f/3050/c/205/s/35f4360b/sc/11/rc/3/rc.img\" border=\"0\"/&gt;&lt;/a&gt;&lt;br/&gt;&lt;br/&gt;&lt;a href=\"http://da.feedsportal.com/r/186528936056/u/75/f/3050/c/205/s/35f4360b/a2.htm\"&gt;&lt;img src=\"http://da.feedsportal.com/r/186528936056/u/75/f/3050/c/205/s/35f4360b/a2.img\" border=\"0\"/&gt;&lt;/a&gt;&lt;img width=\"1\" height=\"1\" src=\"http://pi.feedsportal.com/r/186528936056/u/75/f/3050/c/205/s/35f4360b/a2t.img\" border=\"0\"/&gt;</description><enclosure url=\"http://s1.lemde.fr/image/2014/01/15/0x0/4348724_3_11c5_les-53-millions-d-electeurs-egyptiens-sont-a_060fb40b06762c647577cd48a349db09.jpg\" length=\"61117\" type=\"image/jpeg\" /><pubDate>Wed, 15 Jan 2014 22:15:53 GMT</pubDate><guid isPermaLink=\"false\">http://www.lemonde.fr/tiny/4348723/</guid></item><item><title>Apple va rembourser des achats impr\u00e9vus faits par des enfants</title><link>http://www.lemonde.fr/technologies/article/2014/01/15/apple-va-rembourser-des-achats-imprevus-faits-par-des-enfants_4348692_651865.html#xtor=RSS-3208</link><description>Les autorit\u00e9s de r\u00e9gulation s\\'\u00e9taient pench\u00e9es sur le cas d\\'applications payantes destin\u00e9es aux enfants, permettant l\\'achat de \u00ab contenus additionnels payants\\xa0\u00bb sans que les parents soient au courant.&lt;img width=\\'1\\' height=\\'1\\' src=\\'http://rss.lemonde.fr/c/205/f/3050/s/35f2d08a/sc/23/mf.gif\\' border=\\'0\\'/&gt;&lt;br clear=\\'all\\'/&gt;&lt;br/&gt;&lt;br/&gt;&lt;a href=\"http://da.feedsportal.com/r/186528943337/u/75/f/3050/c/205/s/35f2d08a/sc/23/rc/1/rc.htm\"&gt;&lt;img src=\"http://da.feedsportal.com/r/186528943337/u/75/f/3050/c/205/s/35f2d08a/sc/23/rc/1/rc.img\" border=\"0\"/&gt;&lt;/a&gt;&lt;br/&gt;&lt;a href=\"http://da.feedsportal.com/r/186528943337/u/75/f/3050/c/205/s/35f2d08a/sc/23/rc/2/rc.htm\"&gt;&lt;img src=\"http://da.feedsportal.com/r/186528943337/u/75/f/3050/c/205/s/35f2d08a/sc/23/rc/2/rc.img\" border=\"0\"/&gt;&lt;/a&gt;&lt;br/&gt;&lt;a href=\"http://da.feedsportal.com/r/186528943337/u/75/f/3050/c/205/s/35f2d08a/sc/23/rc/3/rc.htm\"&gt;&lt;img src=\"http://da.feedsportal.com/r/186528943337/u/75/f/3050/c/205/s/35f2d08a/sc/23/rc/3/rc.img\" border=\"0\"/&gt;&lt;/a&gt;&lt;br/&gt;&lt;br/&gt;&lt;a href=\"http://da.feedsportal.com/r/186528943337/u/75/f/3050/c/205/s/35f2d08a/a2.htm\"&gt;&lt;img src=\"http://da.feedsportal.com/r/186528943337/u/75/f/3050/c/205/s/35f2d08a/a2.img\" border=\"0\"/&gt;&lt;/a&gt;&lt;img width=\"1\" height=\"1\" src=\"http://pi.feedsportal.com/r/186528943337/u/75/f/3050/c/205/s/35f2d08a/a2t.img\" border=\"0\"/&gt;</description><enclosure url=\"http://s2.lemde.fr/image/2013/12/05/0x0/3526501_3_6c2e_ill-3526501-f169-iphone_d9f09ead55bbbaea3226c9a1d1df65d9.jpg\" length=\"26556\" type=\"image/jpeg\" /><pubDate>Wed, 15 Jan 2014 20:29:08 GMT</pubDate><guid isPermaLink=\"false\">http://www.lemonde.fr/tiny/4348692/</guid></item><item><title>Le gouvernement va c\u00e9der 1 % du capital d\\'Airbus</title><link>http://www.lemonde.fr/economie/article/2014/01/15/le-gouvernement-va-ceder-1-du-capital-d-airbus_4348707_3234.html#xtor=RSS-3208</link><description>Gr\u00e2ce \u00e0 cette cession, l\\'Etat fran\u00e7ais et l\\'Allemagne disposeront chacun de 11 % du capital.&lt;img width=\\'1\\' height=\\'1\\' src=\\'http://rss.lemonde.fr/c/205/f/3050/s/35f2b80d/sc/24/mf.gif\\' border=\\'0\\'/&gt;&lt;br clear=\\'all\\'/&gt;&lt;br/&gt;&lt;br/&gt;&lt;a href=\"http://da.feedsportal.com/r/186528890461/u/75/f/3050/c/205/s/35f2b80d/sc/24/rc/1/rc.htm\"&gt;&lt;img src=\"http://da.feedsportal.com/r/186528890461/u/75/f/3050/c/205/s/35f2b80d/sc/24/rc/1/rc.img\" border=\"0\"/&gt;&lt;/a&gt;&lt;br/&gt;&lt;a href=\"http://da.feedsportal.com/r/186528890461/u/75/f/3050/c/205/s/35f2b80d/sc/24/rc/2/rc.htm\"&gt;&lt;img src=\"http://da.feedsportal.com/r/186528890461/u/75/f/3050/c/205/s/35f2b80d/sc/24/rc/2/rc.img\" border=\"0\"/&gt;&lt;/a&gt;&lt;br/&gt;&lt;a href=\"http://da.feedsportal.com/r/186528890461/u/75/f/3050/c/205/s/35f2b80d/sc/24/rc/3/rc.htm\"&gt;&lt;img src=\"http://da.feedsportal.com/r/186528890461/u/75/f/3050/c/205/s/35f2b80d/sc/24/rc/3/rc.img\" border=\"0\"/&gt;&lt;/a&gt;&lt;br/&gt;&lt;br/&gt;&lt;a href=\"http://da.feedsportal.com/r/186528890461/u/75/f/3050/c/205/s/35f2b80d/a2.htm\"&gt;&lt;img src=\"http://da.feedsportal.com/r/186528890461/u/75/f/3050/c/205/s/35f2b80d/a2.img\" border=\"0\"/&gt;&lt;/a&gt;&lt;img width=\"1\" height=\"1\" src=\"http://pi.feedsportal.com/r/186528890461/u/75/f/3050/c/205/s/35f2b80d/a2t.img\" border=\"0\"/&gt;</description><enclosure url=\"http://s1.lemde.fr/image/2014/01/15/0x0/4348715_3_f60f_grace-a-cette-cession-l-etat-francais-et-l_b6199e3f9d12326a3ea8b352e3374e69.jpg\" length=\"42602\" type=\"image/jpeg\" /><pubDate>Wed, 15 Jan 2014 19:56:15 GMT</pubDate><guid isPermaLink=\"false\">http://www.lemonde.fr/tiny/4348707/</guid></item><item><title>Les actes de piraterie maritime \u00e0 leur plus bas niveau depuis 6 ans</title><link>http://www.lemonde.fr/international/article/2014/01/15/les-actes-de-piraterie-maritime-a-leur-plus-bas-niveau-depuis-6-ans_4348702_3210.html#xtor=RSS-3208</link><description>Le Bureau maritime international a r\u00e9pertori\u00e9 264 actes de piraterie dans le monde, une baisse qui s\\'explique par l\\'effondrement du nombre d\\'attaques au large des c\u00f4tes somaliennes.&lt;img width=\\'1\\' height=\\'1\\' src=\\'http://rss.lemonde.fr/c/205/f/3050/s/35f2b80e/sc/37/mf.gif\\' border=\\'0\\'/&gt;&lt;br clear=\\'all\\'/&gt;&lt;br/&gt;&lt;br/&gt;&lt;a href=\"http://da.feedsportal.com/r/186528890459/u/75/f/3050/c/205/s/35f2b80e/sc/37/rc/1/rc.htm\"&gt;&lt;img src=\"http://da.feedsportal.com/r/186528890459/u/75/f/3050/c/205/s/35f2b80e/sc/37/rc/1/rc.img\" border=\"0\"/&gt;&lt;/a&gt;&lt;br/&gt;&lt;a href=\"http://da.feedsportal.com/r/186528890459/u/75/f/3050/c/205/s/35f2b80e/sc/37/rc/2/rc.htm\"&gt;&lt;img src=\"http://da.feedsportal.com/r/186528890459/u/75/f/3050/c/205/s/35f2b80e/sc/37/rc/2/rc.img\" border=\"0\"/&gt;&lt;/a&gt;&lt;br/&gt;&lt;a href=\"http://da.feedsportal.com/r/186528890459/u/75/f/3050/c/205/s/35f2b80e/sc/37/rc/3/rc.htm\"&gt;&lt;img src=\"http://da.feedsportal.com/r/186528890459/u/75/f/3050/c/205/s/35f2b80e/sc/37/rc/3/rc.img\" border=\"0\"/&gt;&lt;/a&gt;&lt;br/&gt;&lt;br/&gt;&lt;a href=\"http://da.feedsportal.com/r/186528890459/u/75/f/3050/c/205/s/35f2b80e/a2.htm\"&gt;&lt;img src=\"http://da.feedsportal.com/r/186528890459/u/75/f/3050/c/205/s/35f2b80e/a2.img\" border=\"0\"/&gt;&lt;/a&gt;&lt;img width=\"1\" height=\"1\" src=\"http://pi.feedsportal.com/r/186528890459/u/75/f/3050/c/205/s/35f2b80e/a2t.img\" border=\"0\"/&gt;</description><enclosure url=\"http://s1.lemde.fr/image/2014/01/15/0x0/4348700_3_132a_un-pirate-somalien-pres-d-un-navire_27ebc8341c14abe20d70b4d66dcedce1.jpg\" length=\"68299\" type=\"image/jpeg\" /><pubDate>Wed, 15 Jan 2014 19:51:26 GMT</pubDate><guid isPermaLink=\"false\">http://www.lemonde.fr/tiny/4348702/</guid></item><item><title>Affaire Gayet : Aur\u00e9lie Filippetti se d\u00e9fend de tout favoritisme</title><link>http://www.lemonde.fr/politique/article/2014/01/15/aurelie-filippetti-se-defend-de-tout-favoritisme-en-faveur-de-julie-gayet_4348701_823448.html#xtor=RSS-3208</link><description>Invit\u00e9e mercredi de l\\'\u00e9mission \u00ab\\xa0Questions d\\'info\\xa0\u00bb, la ministre de la culture s\\'est vigoureusement d\u00e9fendue d\\'avoir propos\u00e9 de nommer Julie Gayet membre du jury de la prestigieuse Villa M\u00e9dicis, \u00e0 Rome.&lt;img width=\\'1\\' height=\\'1\\' src=\\'http://rss.lemonde.fr/c/205/f/3050/s/35f29a32/sc/3/mf.gif\\' border=\\'0\\'/&gt;&lt;br clear=\\'all\\'/&gt;&lt;br/&gt;&lt;br/&gt;&lt;a href=\"http://da.feedsportal.com/r/186528943175/u/75/f/3050/c/205/s/35f29a32/sc/3/rc/1/rc.htm\"&gt;&lt;img src=\"http://da.feedsportal.com/r/186528943175/u/75/f/3050/c/205/s/35f29a32/sc/3/rc/1/rc.img\" border=\"0\"/&gt;&lt;/a&gt;&lt;br/&gt;&lt;a href=\"http://da.feedsportal.com/r/186528943175/u/75/f/3050/c/205/s/35f29a32/sc/3/rc/2/rc.htm\"&gt;&lt;img src=\"http://da.feedsportal.com/r/186528943175/u/75/f/3050/c/205/s/35f29a32/sc/3/rc/2/rc.img\" border=\"0\"/&gt;&lt;/a&gt;&lt;br/&gt;&lt;a href=\"http://da.feedsportal.com/r/186528943175/u/75/f/3050/c/205/s/35f29a32/sc/3/rc/3/rc.htm\"&gt;&lt;img src=\"http://da.feedsportal.com/r/186528943175/u/75/f/3050/c/205/s/35f29a32/sc/3/rc/3/rc.img\" border=\"0\"/&gt;&lt;/a&gt;&lt;br/&gt;&lt;br/&gt;&lt;a href=\"http://da.feedsportal.com/r/186528943175/u/75/f/3050/c/205/s/35f29a32/a2.htm\"&gt;&lt;img src=\"http://da.feedsportal.com/r/186528943175/u/75/f/3050/c/205/s/35f29a32/a2.img\" border=\"0\"/&gt;&lt;/a&gt;&lt;img width=\"1\" height=\"1\" src=\"http://pi.feedsportal.com/r/186528943175/u/75/f/3050/c/205/s/35f29a32/a2t.img\" border=\"0\"/&gt;</description><enclosure url=\"http://s1.lemde.fr/image/2014/01/15/0x0/4348081_3_8cd2_julie-gayet-pose-en-janvier-2010-pendant-le_5dd24994b353ed71ad0b5ff288ee99cd.jpg\" length=\"76190\" type=\"image/jpeg\" /><pubDate>Wed, 15 Jan 2014 19:41:20 GMT</pubDate><guid isPermaLink=\"false\">http://www.lemonde.fr/tiny/4348701/</guid></item><item><title>Euro de hand : la France a battu la Pologne</title><link>http://sport.lemonde.fr/handball/directs/2014/championnat-d-europe/33566/pologne-france.html#xtor=RSS-3208</link><description>L\\'\u00e9quipe de France affronte la Pologne pour son deuxi\u00e8me match du championnat d\\'Europe au Danemark.&lt;img width=\\'1\\' height=\\'1\\' src=\\'http://rss.lemonde.fr/c/205/f/3050/s/35f30459/sc/13/mf.gif\\' border=\\'0\\'/&gt;&lt;br clear=\\'all\\'/&gt;</description><enclosure url=\"http://s2.lemde.fr/image/2014/01/13/0x0/4347466_3_0baf_le-francais-alix-nyokas-lors-du-premier-match_c1286a10f7ef273a4a15ec987aad47a8.jpg\" length=\"100346\" type=\"image/jpeg\" /><pubDate>Wed, 15 Jan 2014 18:52:08 GMT</pubDate><guid isPermaLink=\"false\">http://www.lemonde.fr/tiny/4348691/</guid></item><item><title>Alcatel-Lucent se f\u00e9licite du \u00ab processus de concertation \u00bb avec les syndicats</title><link>http://www.lemonde.fr/economie/article/2014/01/15/alcatel-lucent-moins-de-700-suppressions-d-emplois_4348663_3234.html#xtor=RSS-3208</link><description>Direction et syndicats sur un plan social qui supprimerait 669 postes, contre 881 \u00e0 l\\'origine.&lt;img width=\\'1\\' height=\\'1\\' src=\\'http://rss.lemonde.fr/c/205/f/3050/s/35f2406d/sc/24/mf.gif\\' border=\\'0\\'/&gt;&lt;br clear=\\'all\\'/&gt;&lt;br/&gt;&lt;br/&gt;&lt;a href=\"http://da.feedsportal.com/r/186528937860/u/75/f/3050/c/205/s/35f2406d/sc/24/rc/1/rc.htm\"&gt;&lt;img src=\"http://da.feedsportal.com/r/186528937860/u/75/f/3050/c/205/s/35f2406d/sc/24/rc/1/rc.img\" border=\"0\"/&gt;&lt;/a&gt;&lt;br/&gt;&lt;a href=\"http://da.feedsportal.com/r/186528937860/u/75/f/3050/c/205/s/35f2406d/sc/24/rc/2/rc.htm\"&gt;&lt;img src=\"http://da.feedsportal.com/r/186528937860/u/75/f/3050/c/205/s/35f2406d/sc/24/rc/2/rc.img\" border=\"0\"/&gt;&lt;/a&gt;&lt;br/&gt;&lt;a href=\"http://da.feedsportal.com/r/186528937860/u/75/f/3050/c/205/s/35f2406d/sc/24/rc/3/rc.htm\"&gt;&lt;img src=\"http://da.feedsportal.com/r/186528937860/u/75/f/3050/c/205/s/35f2406d/sc/24/rc/3/rc.img\" border=\"0\"/&gt;&lt;/a&gt;&lt;br/&gt;&lt;br/&gt;&lt;a href=\"http://da.feedsportal.com/r/186528937860/u/75/f/3050/c/205/s/35f2406d/a2.htm\"&gt;&lt;img src=\"http://da.feedsportal.com/r/186528937860/u/75/f/3050/c/205/s/35f2406d/a2.img\" border=\"0\"/&gt;&lt;/a&gt;&lt;img width=\"1\" height=\"1\" src=\"http://pi.feedsportal.com/r/186528937860/u/75/f/3050/c/205/s/35f2406d/a2t.img\" border=\"0\"/&gt;</description><enclosure url=\"http://s2.lemde.fr/image/2013/10/08/0x0/3491652_3_256c_michel-combes-pdg-d-alcatel-lucent-a_6ed4ff84644cd5c6cb68b4f25f47677f.jpg\" length=\"136514\" type=\"image/jpeg\" /><pubDate>Wed, 15 Jan 2014 18:43:25 GMT</pubDate><guid isPermaLink=\"false\">http://www.lemonde.fr/tiny/4348663/</guid></item><item><title>Coupe de la Ligue : Lyon l\\'emporte face \u00e0 Marseille</title><link>http://sport.lemonde.fr/football/directs/2014/coupe-de-la-ligue/515276/lyon-marseille.html#xtor=RSS-3208</link><description>L\\'Olympique lyonnais re\u00e7oit l\\'Olympique de Marseille pour le choc des quarts de finale de la Coupe de la Ligue.&lt;img width=\\'1\\' height=\\'1\\' src=\\'http://rss.lemonde.fr/c/205/f/3050/s/35f34c62/sc/12/mf.gif\\' border=\\'0\\'/&gt;&lt;br clear=\\'all\\'/&gt;</description><enclosure url=\"http://s2.lemde.fr/image/2014/01/11/0x0/4346590_3_e998_le-lyonnais-yoann-gourcuff-le-5-janvier_f45108d17abbe3359668196312eadc6e.jpg\" length=\"83117\" type=\"image/jpeg\" /><pubDate>Wed, 15 Jan 2014 18:42:36 GMT</pubDate><guid isPermaLink=\"false\">http://www.lemonde.fr/tiny/4348688/</guid></item><item><title>Vingt-quatre heures dans la vie d\u2019un curseur</title><link>http://bigbrowser.blog.lemonde.fr/2014/01/15/clics-vingt-quatre-heures-dans-la-vie-dun-curseur/#xtor=RSS-32280322#xtor=RSS-3208</link><description>Des artistes sud-cor\u00e9ens ont film\u00e9 chaque clic d\\'une souris pendant une journ\u00e9e. Des instants fig\u00e9s rassembl\u00e9s dans une vid\u00e9o de huit minutes visant \u00e0 exposer \u00ab\\xa0 un jour de nos vies \u00e0 travers un ordinateur \\xa0\u00bb.&lt;img width=\\'1\\' height=\\'1\\' src=\\'http://rss.lemonde.fr/c/205/f/3050/s/35f1aa1c/sc/10/mf.gif\\' border=\\'0\\'/&gt;&lt;br clear=\\'all\\'/&gt;&lt;br/&gt;&lt;br/&gt;&lt;a href=\"http://da.feedsportal.com/r/186528934921/u/75/f/3050/c/205/s/35f1aa1c/sc/10/rc/1/rc.htm\"&gt;&lt;img src=\"http://da.feedsportal.com/r/186528934921/u/75/f/3050/c/205/s/35f1aa1c/sc/10/rc/1/rc.img\" border=\"0\"/&gt;&lt;/a&gt;&lt;br/&gt;&lt;a href=\"http://da.feedsportal.com/r/186528934921/u/75/f/3050/c/205/s/35f1aa1c/sc/10/rc/2/rc.htm\"&gt;&lt;img src=\"http://da.feedsportal.com/r/186528934921/u/75/f/3050/c/205/s/35f1aa1c/sc/10/rc/2/rc.img\" border=\"0\"/&gt;&lt;/a&gt;&lt;br/&gt;&lt;a href=\"http://da.feedsportal.com/r/186528934921/u/75/f/3050/c/205/s/35f1aa1c/sc/10/rc/3/rc.htm\"&gt;&lt;img src=\"http://da.feedsportal.com/r/186528934921/u/75/f/3050/c/205/s/35f1aa1c/sc/10/rc/3/rc.img\" border=\"0\"/&gt;&lt;/a&gt;&lt;br/&gt;&lt;br/&gt;&lt;a href=\"http://da.feedsportal.com/r/186528934921/u/75/f/3050/c/205/s/35f1aa1c/a2.htm\"&gt;&lt;img src=\"http://da.feedsportal.com/r/186528934921/u/75/f/3050/c/205/s/35f1aa1c/a2.img\" border=\"0\"/&gt;&lt;/a&gt;&lt;img width=\"1\" height=\"1\" src=\"http://pi.feedsportal.com/r/186528934921/u/75/f/3050/c/205/s/35f1aa1c/a2t.img\" border=\"0\"/&gt;</description><enclosure url=\"http://s1.lemde.fr/image/2014/01/15/0x0/4348667_3_0feb_des-artistes-sud-coreens-ont-filme-chaque-c_1d283e907b805b22114c90c09ceecf72.jpg\" length=\"3666\" type=\"image/jpeg\" /><pubDate>Wed, 15 Jan 2014 18:08:04 GMT</pubDate><guid isPermaLink=\"false\">http://www.lemonde.fr/tiny/4348665/</guid></item><item><title>D\u00e9couverte de la tombe d\\'un pharaon inconnu en Egypte</title><link>http://www.lemonde.fr/culture/article/2014/01/15/decouverte-de-la-tombe-d-un-pharaon-inconnu-en-egypte_4348585_3246.html#xtor=RSS-3208</link><description>Une \u00e9quipe am\u00e9ricaine a mis au jour la tombe d\\'un pharaon jusqu\\'ici inconnu, Senebkay, qui a r\u00e9gn\u00e9 au XVIIe si\u00e8cle av. J.-C.&lt;img width=\\'1\\' height=\\'1\\' src=\\'http://rss.lemonde.fr/c/205/f/3050/s/35f1aa1a/sc/8/mf.gif\\' border=\\'0\\'/&gt;&lt;br clear=\\'all\\'/&gt;&lt;br/&gt;&lt;br/&gt;&lt;a href=\"http://da.feedsportal.com/r/186528934920/u/75/f/3050/c/205/s/35f1aa1a/sc/8/rc/1/rc.htm\"&gt;&lt;img src=\"http://da.feedsportal.com/r/186528934920/u/75/f/3050/c/205/s/35f1aa1a/sc/8/rc/1/rc.img\" border=\"0\"/&gt;&lt;/a&gt;&lt;br/&gt;&lt;a href=\"http://da.feedsportal.com/r/186528934920/u/75/f/3050/c/205/s/35f1aa1a/sc/8/rc/2/rc.htm\"&gt;&lt;img src=\"http://da.feedsportal.com/r/186528934920/u/75/f/3050/c/205/s/35f1aa1a/sc/8/rc/2/rc.img\" border=\"0\"/&gt;&lt;/a&gt;&lt;br/&gt;&lt;a href=\"http://da.feedsportal.com/r/186528934920/u/75/f/3050/c/205/s/35f1aa1a/sc/8/rc/3/rc.htm\"&gt;&lt;img src=\"http://da.feedsportal.com/r/186528934920/u/75/f/3050/c/205/s/35f1aa1a/sc/8/rc/3/rc.img\" border=\"0\"/&gt;&lt;/a&gt;&lt;br/&gt;&lt;br/&gt;&lt;a href=\"http://da.feedsportal.com/r/186528934920/u/75/f/3050/c/205/s/35f1aa1a/a2.htm\"&gt;&lt;img src=\"http://da.feedsportal.com/r/186528934920/u/75/f/3050/c/205/s/35f1aa1a/a2.img\" border=\"0\"/&gt;&lt;/a&gt;&lt;img width=\"1\" height=\"1\" src=\"http://pi.feedsportal.com/r/186528934920/u/75/f/3050/c/205/s/35f1aa1a/a2t.img\" border=\"0\"/&gt;</description><enclosure url=\"http://s1.lemde.fr/image/2006/08/25/0x0/806525_3_e110_l-etude-de-la-tombe-de-senebkay-pourrait_65c299cd5eea53ec3bb86e5171c239d8.jpg\" length=\"455818\" type=\"image/jpeg\" /><pubDate>Wed, 15 Jan 2014 18:06:20 GMT</pubDate><guid isPermaLink=\"false\">http://www.lemonde.fr/tiny/4348585/</guid></item><item><title>Le lion ne rugit (presque) plus en Afrique de l\u2019Ouest</title><link>http://ecologie.blog.lemonde.fr/2014/01/15/le-lion-ne-rugit-presque-plus-en-afrique-de-louest/#xtor=RSS-3208</link><description>Avec moins de 250 individus adultes et 150 lionceaux, r\u00e9partis en quatre peuplements isol\u00e9s, les lions sont proches de l\\'extinction dans cette r\u00e9gion.&lt;img width=\\'1\\' height=\\'1\\' src=\\'http://rss.lemonde.fr/c/205/f/3050/s/35f2406b/sc/11/mf.gif\\' border=\\'0\\'/&gt;&lt;br clear=\\'all\\'/&gt;</description><enclosure url=\"http://s1.lemde.fr/image/2014/01/15/0x0/4348634_3_9604_il-ne-resterait-plus-que-250-lions-adultes-en_551f841f6e0c9a255d6abe02e02751e2.jpg\" length=\"102253\" type=\"image/jpeg\" /><pubDate>Wed, 15 Jan 2014 17:55:30 GMT</pubDate><guid isPermaLink=\"false\">http://www.lemonde.fr/tiny/4348631/</guid></item><item><title>L\\'Irak englu\u00e9 dans une spirale de violence</title><link>http://www.lemonde.fr/proche-orient/article/2014/01/15/l-irak-engluee-dans-un-regain-de-violences_4348574_3218.html#xtor=RSS-3208</link><description>Depuis le d\u00e9but de l\\'ann\u00e9e, le bilan avoisine d\u00e9j\u00e0 les 500 morts, selon un d\u00e9compte de l\\'Agence France-Presse.&lt;img width=\\'1\\' height=\\'1\\' src=\\'http://rss.lemonde.fr/c/205/f/3050/s/35f14c33/sc/2/mf.gif\\' border=\\'0\\'/&gt;&lt;br clear=\\'all\\'/&gt;&lt;br/&gt;&lt;br/&gt;&lt;a href=\"http://da.feedsportal.com/r/186528934554/u/75/f/3050/c/205/s/35f14c33/sc/2/rc/1/rc.htm\"&gt;&lt;img src=\"http://da.feedsportal.com/r/186528934554/u/75/f/3050/c/205/s/35f14c33/sc/2/rc/1/rc.img\" border=\"0\"/&gt;&lt;/a&gt;&lt;br/&gt;&lt;a href=\"http://da.feedsportal.com/r/186528934554/u/75/f/3050/c/205/s/35f14c33/sc/2/rc/2/rc.htm\"&gt;&lt;img src=\"http://da.feedsportal.com/r/186528934554/u/75/f/3050/c/205/s/35f14c33/sc/2/rc/2/rc.img\" border=\"0\"/&gt;&lt;/a&gt;&lt;br/&gt;&lt;a href=\"http://da.feedsportal.com/r/186528934554/u/75/f/3050/c/205/s/35f14c33/sc/2/rc/3/rc.htm\"&gt;&lt;img src=\"http://da.feedsportal.com/r/186528934554/u/75/f/3050/c/205/s/35f14c33/sc/2/rc/3/rc.img\" border=\"0\"/&gt;&lt;/a&gt;&lt;br/&gt;&lt;br/&gt;&lt;a href=\"http://da.feedsportal.com/r/186528934554/u/75/f/3050/c/205/s/35f14c33/a2.htm\"&gt;&lt;img src=\"http://da.feedsportal.com/r/186528934554/u/75/f/3050/c/205/s/35f14c33/a2.img\" border=\"0\"/&gt;&lt;/a&gt;&lt;img width=\"1\" height=\"1\" src=\"http://pi.feedsportal.com/r/186528934554/u/75/f/3050/c/205/s/35f14c33/a2t.img\" border=\"0\"/&gt;</description><enclosure url=\"http://s1.lemde.fr/image/2014/01/15/0x0/4348613_3_b390_depuis-le-debut-de-l-annee-le-bilan-avoisine-d_9d9c0740a9e2d77ddf8aed6a00927397.jpg\" length=\"158798\" type=\"image/jpeg\" /><pubDate>Wed, 15 Jan 2014 17:35:47 GMT</pubDate><guid isPermaLink=\"false\">http://www.lemonde.fr/tiny/4348574/</guid></item><item><title>D\u00e9couverte d\u2019une exoplan\u00e8te autour d\u2019une \u00e9toile quasi identique au Soleil</title><link>http://autourduciel.blog.lemonde.fr/2014/01/15/decouverte-dune-exoplanete-autour-dune-etoile-quasiment-identique-au-soleil/#xtor=RSS-3208</link><description>Cette nouvelle plan\u00e8te extra-solaire est bien trop proche de son \u00e9toile et bien trop chaude pour \u00eatre consid\u00e9r\u00e9e comme habitable.&lt;img width=\\'1\\' height=\\'1\\' src=\\'http://rss.lemonde.fr/c/205/f/3050/s/35f163c4/sc/37/mf.gif\\' border=\\'0\\'/&gt;&lt;br clear=\\'all\\'/&gt;&lt;br/&gt;&lt;br/&gt;&lt;a href=\"http://da.feedsportal.com/r/186528880832/u/75/f/3050/c/205/s/35f163c4/sc/37/rc/1/rc.htm\"&gt;&lt;img src=\"http://da.feedsportal.com/r/186528880832/u/75/f/3050/c/205/s/35f163c4/sc/37/rc/1/rc.img\" border=\"0\"/&gt;&lt;/a&gt;&lt;br/&gt;&lt;a href=\"http://da.feedsportal.com/r/186528880832/u/75/f/3050/c/205/s/35f163c4/sc/37/rc/2/rc.htm\"&gt;&lt;img src=\"http://da.feedsportal.com/r/186528880832/u/75/f/3050/c/205/s/35f163c4/sc/37/rc/2/rc.img\" border=\"0\"/&gt;&lt;/a&gt;&lt;br/&gt;&lt;a href=\"http://da.feedsportal.com/r/186528880832/u/75/f/3050/c/205/s/35f163c4/sc/37/rc/3/rc.htm\"&gt;&lt;img src=\"http://da.feedsportal.com/r/186528880832/u/75/f/3050/c/205/s/35f163c4/sc/37/rc/3/rc.img\" border=\"0\"/&gt;&lt;/a&gt;&lt;br/&gt;&lt;br/&gt;&lt;a href=\"http://da.feedsportal.com/r/186528880832/u/75/f/3050/c/205/s/35f163c4/a2.htm\"&gt;&lt;img src=\"http://da.feedsportal.com/r/186528880832/u/75/f/3050/c/205/s/35f163c4/a2.img\" border=\"0\"/&gt;&lt;/a&gt;&lt;img width=\"1\" height=\"1\" src=\"http://pi.feedsportal.com/r/186528880832/u/75/f/3050/c/205/s/35f163c4/a2t.img\" border=\"0\"/&gt;</description><enclosure url=\"http://s2.lemde.fr/image/2014/01/15/0x0/4348584_3_f79e_vue-d-artiste-d-une-des-trois-exoplanetes-deco_db425bac6d3be063f12504728a738520.jpg\" length=\"70165\" type=\"image/jpeg\" /><pubDate>Wed, 15 Jan 2014 17:14:15 GMT</pubDate><guid isPermaLink=\"false\">http://www.lemonde.fr/tiny/4348580/</guid></item><item><title>Assurance-vie : du simple au double pour les rendements 2013</title><link>http://www.lemonde.fr/argent/article/2014/01/15/assurance-vie-du-simple-au-double-pour-les-rendements-2013_4348548_1657007.html#xtor=RSS-3208</link><description>Les rendements des fonds en euros pourraient varier du simple au double entre les moins bon contrats et les meilleurs, explique Cyrille Chartier-Kastler, fondateur du site GoodValueforMoney.eu.&lt;img width=\\'1\\' height=\\'1\\' src=\\'http://rss.lemonde.fr/c/205/f/3050/s/35f163bf/sc/37/mf.gif\\' border=\\'0\\'/&gt;&lt;br clear=\\'all\\'/&gt;&lt;br/&gt;&lt;br/&gt;&lt;a href=\"http://da.feedsportal.com/r/186528880831/u/75/f/3050/c/205/s/35f163bf/sc/37/rc/1/rc.htm\"&gt;&lt;img src=\"http://da.feedsportal.com/r/186528880831/u/75/f/3050/c/205/s/35f163bf/sc/37/rc/1/rc.img\" border=\"0\"/&gt;&lt;/a&gt;&lt;br/&gt;&lt;a href=\"http://da.feedsportal.com/r/186528880831/u/75/f/3050/c/205/s/35f163bf/sc/37/rc/2/rc.htm\"&gt;&lt;img src=\"http://da.feedsportal.com/r/186528880831/u/75/f/3050/c/205/s/35f163bf/sc/37/rc/2/rc.img\" border=\"0\"/&gt;&lt;/a&gt;&lt;br/&gt;&lt;a href=\"http://da.feedsportal.com/r/186528880831/u/75/f/3050/c/205/s/35f163bf/sc/37/rc/3/rc.htm\"&gt;&lt;img src=\"http://da.feedsportal.com/r/186528880831/u/75/f/3050/c/205/s/35f163bf/sc/37/rc/3/rc.img\" border=\"0\"/&gt;&lt;/a&gt;&lt;br/&gt;&lt;br/&gt;&lt;a href=\"http://da.feedsportal.com/r/186528880831/u/75/f/3050/c/205/s/35f163bf/a2.htm\"&gt;&lt;img src=\"http://da.feedsportal.com/r/186528880831/u/75/f/3050/c/205/s/35f163bf/a2.img\" border=\"0\"/&gt;&lt;/a&gt;&lt;img width=\"1\" height=\"1\" src=\"http://pi.feedsportal.com/r/186528880831/u/75/f/3050/c/205/s/35f163bf/a2t.img\" border=\"0\"/&gt;</description><enclosure url=\"http://s2.lemde.fr/image/2013/09/02/0x0/3470049_3_187e_le-cac-40-a-grimpe-de-18-en-2013_e56312b97e1d7aa4e7cb3f294559ddeb.jpg\" length=\"58011\" type=\"image/jpeg\" /><pubDate>Wed, 15 Jan 2014 17:01:52 GMT</pubDate><guid isPermaLink=\"false\">http://www.lemonde.fr/tiny/4348548/</guid></item><item><title>L\\'acteur Samy Naceri en garde \u00e0 vue \u00e0 Paris</title><link>http://www.lemonde.fr/societe/article/2014/01/15/l-acteur-samy-naceri-en-garde-a-vue-a-paris_4348582_3224.html#xtor=RSS-3208</link><description>L\\'acteur Samy Naceri, en sursis depuis 2011, et l\\'une de ses ex-compagnes ont \u00e9t\u00e9 interpell\u00e9s et plac\u00e9s en garde \u00e0 vue pour \u00ab\\xa0violences r\u00e9ciproques\\xa0\u00bb.&lt;img width=\\'1\\' height=\\'1\\' src=\\'http://rss.lemonde.fr/c/205/f/3050/s/35f1068d/sc/7/mf.gif\\' border=\\'0\\'/&gt;&lt;br clear=\\'all\\'/&gt;&lt;br/&gt;&lt;br/&gt;&lt;a href=\"http://da.feedsportal.com/r/186528888640/u/75/f/3050/c/205/s/35f1068d/sc/7/rc/1/rc.htm\"&gt;&lt;img src=\"http://da.feedsportal.com/r/186528888640/u/75/f/3050/c/205/s/35f1068d/sc/7/rc/1/rc.img\" border=\"0\"/&gt;&lt;/a&gt;&lt;br/&gt;&lt;a href=\"http://da.feedsportal.com/r/186528888640/u/75/f/3050/c/205/s/35f1068d/sc/7/rc/2/rc.htm\"&gt;&lt;img src=\"http://da.feedsportal.com/r/186528888640/u/75/f/3050/c/205/s/35f1068d/sc/7/rc/2/rc.img\" border=\"0\"/&gt;&lt;/a&gt;&lt;br/&gt;&lt;a href=\"http://da.feedsportal.com/r/186528888640/u/75/f/3050/c/205/s/35f1068d/sc/7/rc/3/rc.htm\"&gt;&lt;img src=\"http://da.feedsportal.com/r/186528888640/u/75/f/3050/c/205/s/35f1068d/sc/7/rc/3/rc.img\" border=\"0\"/&gt;&lt;/a&gt;&lt;br/&gt;&lt;br/&gt;&lt;a href=\"http://da.feedsportal.com/r/186528888640/u/75/f/3050/c/205/s/35f1068d/a2.htm\"&gt;&lt;img src=\"http://da.feedsportal.com/r/186528888640/u/75/f/3050/c/205/s/35f1068d/a2.img\" border=\"0\"/&gt;&lt;/a&gt;&lt;img width=\"1\" height=\"1\" src=\"http://pi.feedsportal.com/r/186528888640/u/75/f/3050/c/205/s/35f1068d/a2t.img\" border=\"0\"/&gt;</description><enclosure url=\"http://s1.lemde.fr/image/2013/05/19/0x0/3358036_3_e8ae_l-acteur-samy-naceri-lors-d-une-seance-photo_a12ca9eb962c8fd76d12b53eacad6c1e.jpg\" length=\"35579\" type=\"image/jpeg\" /><pubDate>Wed, 15 Jan 2014 16:45:43 GMT</pubDate><guid isPermaLink=\"false\">http://www.lemonde.fr/tiny/4348582/</guid></item><item><title>La Tha\u00eflande veut sortir de la crise par les urnes</title><link>http://www.lemonde.fr/asie-pacifique/article/2014/01/15/bangkok-appelle-les-thailandais-a-sortir-de-la-crise-par-les-urnes_4348563_3216.html#xtor=RSS-3208</link><description>Le gouvernement s\\'est montr\u00e9 ferme sur sa volont\u00e9 d\\'organiser des \u00e9lections l\u00e9gislatives le 2 f\u00e9vrier. Les militants qui bloquent depuis lundi des carrefours majeurs de la capitale veulent se d\u00e9barrasser du \u00ab\\xa0syst\u00e8me Thaksin\\xa0\u00bb.&lt;img width=\\'1\\' height=\\'1\\' src=\\'http://rss.lemonde.fr/c/205/f/3050/s/35f1068b/sc/11/mf.gif\\' border=\\'0\\'/&gt;&lt;br clear=\\'all\\'/&gt;&lt;br/&gt;&lt;br/&gt;&lt;a href=\"http://da.feedsportal.com/r/186528888639/u/75/f/3050/c/205/s/35f1068b/sc/11/rc/1/rc.htm\"&gt;&lt;img src=\"http://da.feedsportal.com/r/186528888639/u/75/f/3050/c/205/s/35f1068b/sc/11/rc/1/rc.img\" border=\"0\"/&gt;&lt;/a&gt;&lt;br/&gt;&lt;a href=\"http://da.feedsportal.com/r/186528888639/u/75/f/3050/c/205/s/35f1068b/sc/11/rc/2/rc.htm\"&gt;&lt;img src=\"http://da.feedsportal.com/r/186528888639/u/75/f/3050/c/205/s/35f1068b/sc/11/rc/2/rc.img\" border=\"0\"/&gt;&lt;/a&gt;&lt;br/&gt;&lt;a href=\"http://da.feedsportal.com/r/186528888639/u/75/f/3050/c/205/s/35f1068b/sc/11/rc/3/rc.htm\"&gt;&lt;img src=\"http://da.feedsportal.com/r/186528888639/u/75/f/3050/c/205/s/35f1068b/sc/11/rc/3/rc.img\" border=\"0\"/&gt;&lt;/a&gt;&lt;br/&gt;&lt;br/&gt;&lt;a href=\"http://da.feedsportal.com/r/186528888639/u/75/f/3050/c/205/s/35f1068b/a2.htm\"&gt;&lt;img src=\"http://da.feedsportal.com/r/186528888639/u/75/f/3050/c/205/s/35f1068b/a2.img\" border=\"0\"/&gt;&lt;/a&gt;&lt;img width=\"1\" height=\"1\" src=\"http://pi.feedsportal.com/r/186528888639/u/75/f/3050/c/205/s/35f1068b/a2t.img\" border=\"0\"/&gt;</description><enclosure url=\"http://s1.lemde.fr/image/2014/01/15/0x0/4348570_3_8c6b_manifestants-a-bangkok-le-15-janvier_26803a02c35127556d35296b957138e2.jpg\" length=\"50588\" type=\"image/jpeg\" /><pubDate>Wed, 15 Jan 2014 16:31:25 GMT</pubDate><guid isPermaLink=\"false\">http://www.lemonde.fr/tiny/4348563/</guid></item><item><title>Le cerveau pr\u00e9sum\u00e9 du 11-Septembre se convertit \u00e0 la non-violence</title><link>http://bigbrowser.blog.lemonde.fr/2014/01/15/revelation-le-repentir-du-cerveau-presume-du-11-septembre/#xtor=RSS-32280322?utm_source=twitterfeed</link><description>A l\u2019or\u00e9e de la cinquantaine, Khaled Cheikh Mohammed, d\u00e9tenu sur la base de Guantanamo depuis 2006, a \u00e9crit un manifeste religieux dans lequel il invite les musulmans \u00e0 diffuser l\\'islam de fa\u00e7on non violente.&lt;img width=\\'1\\' height=\\'1\\' src=\\'http://rss.lemonde.fr/c/205/f/3050/s/35f0ab7e/sc/4/mf.gif\\' border=\\'0\\'/&gt;&lt;br clear=\\'all\\'/&gt;&lt;br/&gt;&lt;br/&gt;&lt;a href=\"http://da.feedsportal.com/r/186528929814/u/75/f/3050/c/205/s/35f0ab7e/sc/4/rc/1/rc.htm\"&gt;&lt;img src=\"http://da.feedsportal.com/r/186528929814/u/75/f/3050/c/205/s/35f0ab7e/sc/4/rc/1/rc.img\" border=\"0\"/&gt;&lt;/a&gt;&lt;br/&gt;&lt;a href=\"http://da.feedsportal.com/r/186528929814/u/75/f/3050/c/205/s/35f0ab7e/sc/4/rc/2/rc.htm\"&gt;&lt;img src=\"http://da.feedsportal.com/r/186528929814/u/75/f/3050/c/205/s/35f0ab7e/sc/4/rc/2/rc.img\" border=\"0\"/&gt;&lt;/a&gt;&lt;br/&gt;&lt;a href=\"http://da.feedsportal.com/r/186528929814/u/75/f/3050/c/205/s/35f0ab7e/sc/4/rc/3/rc.htm\"&gt;&lt;img src=\"http://da.feedsportal.com/r/186528929814/u/75/f/3050/c/205/s/35f0ab7e/sc/4/rc/3/rc.img\" border=\"0\"/&gt;&lt;/a&gt;&lt;br/&gt;&lt;br/&gt;&lt;a href=\"http://da.feedsportal.com/r/186528929814/u/75/f/3050/c/205/s/35f0ab7e/a2.htm\"&gt;&lt;img src=\"http://da.feedsportal.com/r/186528929814/u/75/f/3050/c/205/s/35f0ab7e/a2.img\" border=\"0\"/&gt;&lt;/a&gt;&lt;img width=\"1\" height=\"1\" src=\"http://pi.feedsportal.com/r/186528929814/u/75/f/3050/c/205/s/35f0ab7e/a2t.img\" border=\"0\"/&gt;</description><enclosure url=\"http://s1.lemde.fr/image/2008/02/11/0x0/1010141_3_4bf0_a-l-oree-de-la-cinquantaine-khaled-cheikh-mo_12d3541ed1d2b74d0c9c266e12aa46e6.jpg\" length=\"123282\" type=\"image/jpeg\" /><pubDate>Wed, 15 Jan 2014 16:27:52 GMT</pubDate><guid isPermaLink=\"false\">http://www.lemonde.fr/tiny/4348578/</guid></item><item><title>Mais au fait, c\\'est quoi, les cotisations familiales ?</title><link>http://www.lemonde.fr/politique/article/2014/01/15/mais-au-fait-c-est-quoi-les-cotisations-familiales_4348485_823448.html#xtor=RSS-3208</link><description>Pas toujours facile de comprendre les enjeux d\\'une r\u00e9forme, surtout en mati\u00e8re \u00e9conomique, si l\\'on n\\'a pas quelques notions d\\'\u00e9conomie ou de fiscalit\u00e9.&lt;img width=\\'1\\' height=\\'1\\' src=\\'http://rss.lemonde.fr/c/205/f/3050/s/35f0ab82/sc/37/mf.gif\\' border=\\'0\\'/&gt;&lt;br clear=\\'all\\'/&gt;&lt;br/&gt;&lt;br/&gt;&lt;a href=\"http://da.feedsportal.com/r/186528929813/u/75/f/3050/c/205/s/35f0ab82/sc/37/rc/1/rc.htm\"&gt;&lt;img src=\"http://da.feedsportal.com/r/186528929813/u/75/f/3050/c/205/s/35f0ab82/sc/37/rc/1/rc.img\" border=\"0\"/&gt;&lt;/a&gt;&lt;br/&gt;&lt;a href=\"http://da.feedsportal.com/r/186528929813/u/75/f/3050/c/205/s/35f0ab82/sc/37/rc/2/rc.htm\"&gt;&lt;img src=\"http://da.feedsportal.com/r/186528929813/u/75/f/3050/c/205/s/35f0ab82/sc/37/rc/2/rc.img\" border=\"0\"/&gt;&lt;/a&gt;&lt;br/&gt;&lt;a href=\"http://da.feedsportal.com/r/186528929813/u/75/f/3050/c/205/s/35f0ab82/sc/37/rc/3/rc.htm\"&gt;&lt;img src=\"http://da.feedsportal.com/r/186528929813/u/75/f/3050/c/205/s/35f0ab82/sc/37/rc/3/rc.img\" border=\"0\"/&gt;&lt;/a&gt;&lt;br/&gt;&lt;br/&gt;&lt;a href=\"http://da.feedsportal.com/r/186528929813/u/75/f/3050/c/205/s/35f0ab82/a2.htm\"&gt;&lt;img src=\"http://da.feedsportal.com/r/186528929813/u/75/f/3050/c/205/s/35f0ab82/a2.img\" border=\"0\"/&gt;&lt;/a&gt;&lt;img width=\"1\" height=\"1\" src=\"http://pi.feedsportal.com/r/186528929813/u/75/f/3050/c/205/s/35f0ab82/a2t.img\" border=\"0\"/&gt;</description><enclosure url=\"http://s2.lemde.fr/image/2013/07/17/0x0/3448654_3_421b_une-personne-presente-les-brochures-informant_bb0087a21c5545928095811410b71ea6.jpg\" length=\"92387\" type=\"image/jpeg\" /><pubDate>Wed, 15 Jan 2014 16:19:42 GMT</pubDate><guid isPermaLink=\"false\">http://www.lemonde.fr/tiny/4348485/</guid></item><item><title>Le Parlement europ\u00e9en rejette l\\'\u00e9tiquetage du pollen OGM</title><link>http://www.lemonde.fr/planete/article/2014/01/15/le-parlement-europeen-rejette-l-etiquetage-du-pollen-ogm_4348519_3244.html#xtor=RSS-3208</link><description>Les apiculteurs n\\'auront \u00e0 \u00e9tiqueter leur miel comme \u00ab\\xa0avec OGM\\xa0\u00bb que si des traces sup\u00e9rieures \u00e0 0,9 % du total y sont d\u00e9cel\u00e9es.&lt;img width=\\'1\\' height=\\'1\\' src=\\'http://rss.lemonde.fr/c/205/f/3050/s/35f0114d/sc/26/mf.gif\\' border=\\'0\\'/&gt;&lt;br clear=\\'all\\'/&gt;&lt;br/&gt;&lt;br/&gt;&lt;a href=\"http://da.feedsportal.com/r/186528926082/u/75/f/3050/c/205/s/35f0114d/sc/26/rc/1/rc.htm\"&gt;&lt;img src=\"http://da.feedsportal.com/r/186528926082/u/75/f/3050/c/205/s/35f0114d/sc/26/rc/1/rc.img\" border=\"0\"/&gt;&lt;/a&gt;&lt;br/&gt;&lt;a href=\"http://da.feedsportal.com/r/186528926082/u/75/f/3050/c/205/s/35f0114d/sc/26/rc/2/rc.htm\"&gt;&lt;img src=\"http://da.feedsportal.com/r/186528926082/u/75/f/3050/c/205/s/35f0114d/sc/26/rc/2/rc.img\" border=\"0\"/&gt;&lt;/a&gt;&lt;br/&gt;&lt;a href=\"http://da.feedsportal.com/r/186528926082/u/75/f/3050/c/205/s/35f0114d/sc/26/rc/3/rc.htm\"&gt;&lt;img src=\"http://da.feedsportal.com/r/186528926082/u/75/f/3050/c/205/s/35f0114d/sc/26/rc/3/rc.img\" border=\"0\"/&gt;&lt;/a&gt;&lt;br/&gt;&lt;br/&gt;&lt;a href=\"http://da.feedsportal.com/r/186528926082/u/75/f/3050/c/205/s/35f0114d/a2.htm\"&gt;&lt;img src=\"http://da.feedsportal.com/r/186528926082/u/75/f/3050/c/205/s/35f0114d/a2.img\" border=\"0\"/&gt;&lt;/a&gt;&lt;img width=\"1\" height=\"1\" src=\"http://pi.feedsportal.com/r/186528926082/u/75/f/3050/c/205/s/35f0114d/a2t.img\" border=\"0\"/&gt;</description><enclosure url=\"http://s1.lemde.fr/image/2007/09/20/0x0/957362_3_2f58_les-europeens-importent-40-de-leur_d7b0578bf8ee242d4dabf8d850bd5d9e.jpg\" length=\"19691\" type=\"image/jpeg\" /><pubDate>Wed, 15 Jan 2014 15:45:13 GMT</pubDate><guid isPermaLink=\"false\">http://www.lemonde.fr/tiny/4348519/</guid></item><item><title>Les \u00e9lections \u00e0 venir cr\u00e9ent des tensions entre Bayrou et Borloo</title><link>http://www.lemonde.fr/politique/article/2014/01/15/les-elections-a-venir-creent-des-tensions-entre-bayrou-et-borloo_4348466_823448.html#xtor=RSS-3208</link><description>La pr\u00e9sence d\\'\u00e9lus MoDem sur des listes de gauche aux municipales, la d\u00e9signation de la t\u00eate de liste parisienne aux europ\u00e9ennes et le d\u00e9tricotage de l\\'accord avec NKM sont facteurs de discorde.&lt;img width=\\'1\\' height=\\'1\\' src=\\'http://rss.lemonde.fr/c/205/f/3050/s/35f00668/sc/7/mf.gif\\' border=\\'0\\'/&gt;&lt;br clear=\\'all\\'/&gt;&lt;br/&gt;&lt;br/&gt;&lt;a href=\"http://da.feedsportal.com/r/186528923761/u/75/f/3050/c/205/s/35f00668/sc/7/rc/1/rc.htm\"&gt;&lt;img src=\"http://da.feedsportal.com/r/186528923761/u/75/f/3050/c/205/s/35f00668/sc/7/rc/1/rc.img\" border=\"0\"/&gt;&lt;/a&gt;&lt;br/&gt;&lt;a href=\"http://da.feedsportal.com/r/186528923761/u/75/f/3050/c/205/s/35f00668/sc/7/rc/2/rc.htm\"&gt;&lt;img src=\"http://da.feedsportal.com/r/186528923761/u/75/f/3050/c/205/s/35f00668/sc/7/rc/2/rc.img\" border=\"0\"/&gt;&lt;/a&gt;&lt;br/&gt;&lt;a href=\"http://da.feedsportal.com/r/186528923761/u/75/f/3050/c/205/s/35f00668/sc/7/rc/3/rc.htm\"&gt;&lt;img src=\"http://da.feedsportal.com/r/186528923761/u/75/f/3050/c/205/s/35f00668/sc/7/rc/3/rc.img\" border=\"0\"/&gt;&lt;/a&gt;&lt;br/&gt;&lt;br/&gt;&lt;a href=\"http://da.feedsportal.com/r/186528923761/u/75/f/3050/c/205/s/35f00668/a2.htm\"&gt;&lt;img src=\"http://da.feedsportal.com/r/186528923761/u/75/f/3050/c/205/s/35f00668/a2.img\" border=\"0\"/&gt;&lt;/a&gt;&lt;img width=\"1\" height=\"1\" src=\"http://pi.feedsportal.com/r/186528923761/u/75/f/3050/c/205/s/35f00668/a2t.img\" border=\"0\"/&gt;</description><enclosure url=\"http://s1.lemde.fr/image/2013/11/04/0x0/3507536_3_df1f_francois-bayrou-et-jean-louis-borloo-en-juin_b00c391fe0748b1d69a60fd4ef022a75.jpg\" length=\"89216\" type=\"image/jpeg\" /><pubDate>Wed, 15 Jan 2014 15:14:15 GMT</pubDate><guid isPermaLink=\"false\">http://www.lemonde.fr/tiny/4348466/</guid></item><item><title>Mondial 2014 : carton rouge pour les arbitres fran\u00e7ais</title><link>http://www.lemonde.fr/sport/article/2014/01/15/mondial-2014-carton-rouge-pour-les-arbitres-francais_4348506_3242.html#xtor=RSS-3208</link><description>La FIFA n\\'a retenu aucun arbitre fran\u00e7ais pour la Coupe du monde au Br\u00e9sil. Une d\u00e9cision qui sanctionne une corporation min\u00e9e par les crises depuis une d\u00e9cennie.&lt;img width=\\'1\\' height=\\'1\\' src=\\'http://rss.lemonde.fr/c/205/f/3050/s/35f00667/sc/12/mf.gif\\' border=\\'0\\'/&gt;&lt;br clear=\\'all\\'/&gt;&lt;br/&gt;&lt;br/&gt;&lt;a href=\"http://da.feedsportal.com/r/186528923760/u/75/f/3050/c/205/s/35f00667/sc/12/rc/1/rc.htm\"&gt;&lt;img src=\"http://da.feedsportal.com/r/186528923760/u/75/f/3050/c/205/s/35f00667/sc/12/rc/1/rc.img\" border=\"0\"/&gt;&lt;/a&gt;&lt;br/&gt;&lt;a href=\"http://da.feedsportal.com/r/186528923760/u/75/f/3050/c/205/s/35f00667/sc/12/rc/2/rc.htm\"&gt;&lt;img src=\"http://da.feedsportal.com/r/186528923760/u/75/f/3050/c/205/s/35f00667/sc/12/rc/2/rc.img\" border=\"0\"/&gt;&lt;/a&gt;&lt;br/&gt;&lt;a href=\"http://da.feedsportal.com/r/186528923760/u/75/f/3050/c/205/s/35f00667/sc/12/rc/3/rc.htm\"&gt;&lt;img src=\"http://da.feedsportal.com/r/186528923760/u/75/f/3050/c/205/s/35f00667/sc/12/rc/3/rc.img\" border=\"0\"/&gt;&lt;/a&gt;&lt;br/&gt;&lt;br/&gt;&lt;a href=\"http://da.feedsportal.com/r/186528923760/u/75/f/3050/c/205/s/35f00667/a2.htm\"&gt;&lt;img src=\"http://da.feedsportal.com/r/186528923760/u/75/f/3050/c/205/s/35f00667/a2.img\" border=\"0\"/&gt;&lt;/a&gt;&lt;img width=\"1\" height=\"1\" src=\"http://pi.feedsportal.com/r/186528923760/u/75/f/3050/c/205/s/35f00667/a2t.img\" border=\"0\"/&gt;</description><enclosure url=\"http://s2.lemde.fr/image/2012/06/28/0x0/1726631_3_f57a_stephane-lannoy-ici-durant-l-euro-2012-n-a_aa5660686bce2ddd1ec5064a8c1cf840.jpg\" length=\"104933\" type=\"image/jpeg\" /><pubDate>Wed, 15 Jan 2014 15:12:30 GMT</pubDate><guid isPermaLink=\"false\">http://www.lemonde.fr/tiny/4348506/</guid></item><item><title>L\\'UE avance dans l\\'encadrement de la finance</title><link>http://www.lemonde.fr/economie/article/2014/01/15/des-avancees-europeennes-dans-l-encadrement-de-la-finance_4348133_3234.html#xtor=RSS-3208</link><description>Le Parlement et le Conseil se sont mis d\\'accord pour r\u00e9former la directive sur les march\u00e9s d\\'instruments financiers pour qu\\'elle encadre plus efficacement l\\'activit\u00e9 des banques et des fonds d\\'investissement.&lt;img width=\\'1\\' height=\\'1\\' src=\\'http://rss.lemonde.fr/c/205/f/3050/s/35f0066c/sc/30/mf.gif\\' border=\\'0\\'/&gt;&lt;br clear=\\'all\\'/&gt;&lt;br/&gt;&lt;br/&gt;&lt;a href=\"http://da.feedsportal.com/r/186528923759/u/75/f/3050/c/205/s/35f0066c/sc/30/rc/1/rc.htm\"&gt;&lt;img src=\"http://da.feedsportal.com/r/186528923759/u/75/f/3050/c/205/s/35f0066c/sc/30/rc/1/rc.img\" border=\"0\"/&gt;&lt;/a&gt;&lt;br/&gt;&lt;a href=\"http://da.feedsportal.com/r/186528923759/u/75/f/3050/c/205/s/35f0066c/sc/30/rc/2/rc.htm\"&gt;&lt;img src=\"http://da.feedsportal.com/r/186528923759/u/75/f/3050/c/205/s/35f0066c/sc/30/rc/2/rc.img\" border=\"0\"/&gt;&lt;/a&gt;&lt;br/&gt;&lt;a href=\"http://da.feedsportal.com/r/186528923759/u/75/f/3050/c/205/s/35f0066c/sc/30/rc/3/rc.htm\"&gt;&lt;img src=\"http://da.feedsportal.com/r/186528923759/u/75/f/3050/c/205/s/35f0066c/sc/30/rc/3/rc.img\" border=\"0\"/&gt;&lt;/a&gt;&lt;br/&gt;&lt;br/&gt;&lt;a href=\"http://da.feedsportal.com/r/186528923759/u/75/f/3050/c/205/s/35f0066c/a2.htm\"&gt;&lt;img src=\"http://da.feedsportal.com/r/186528923759/u/75/f/3050/c/205/s/35f0066c/a2.img\" border=\"0\"/&gt;&lt;/a&gt;&lt;img width=\"1\" height=\"1\" src=\"http://pi.feedsportal.com/r/186528923759/u/75/f/3050/c/205/s/35f0066c/a2t.img\" border=\"0\"/&gt;</description><enclosure url=\"http://s2.lemde.fr/image/2013/06/24/0x0/3435875_3_baa6_le-parlement-et-le-conseil-se-sont-mis-d-accord_0208379458351e1ab3d85b9b34c04881.jpg\" length=\"75149\" type=\"image/jpeg\" /><pubDate>Wed, 15 Jan 2014 15:02:55 GMT</pubDate><guid isPermaLink=\"false\">http://www.lemonde.fr/tiny/4348133/</guid></item><item><title>PSA annonce le reclassement de 1\\xa0400 salari\u00e9s licenci\u00e9s \u00e0 Rennes</title><link>http://www.lemonde.fr/economie/article/2014/01/15/psa-annonce-le-reclassement-de-1400-salaries-licencies-a-rennes_4348481_3234.html#xtor=RSS-3208</link><description>La direction s\\'est f\u00e9licit\u00e9e que 100 % des salari\u00e9s concern\u00e9s par le plan de sauvegarde de l\\'emploi soient reclass\u00e9s, mais reconna\u00eet qu\\'il existe encore un sur-effectif.&lt;img width=\\'1\\' height=\\'1\\' src=\\'http://rss.lemonde.fr/c/205/f/3050/s/35f0066b/sc/30/mf.gif\\' border=\\'0\\'/&gt;&lt;br clear=\\'all\\'/&gt;&lt;br/&gt;&lt;br/&gt;&lt;a href=\"http://da.feedsportal.com/r/186528923758/u/75/f/3050/c/205/s/35f0066b/sc/30/rc/1/rc.htm\"&gt;&lt;img src=\"http://da.feedsportal.com/r/186528923758/u/75/f/3050/c/205/s/35f0066b/sc/30/rc/1/rc.img\" border=\"0\"/&gt;&lt;/a&gt;&lt;br/&gt;&lt;a href=\"http://da.feedsportal.com/r/186528923758/u/75/f/3050/c/205/s/35f0066b/sc/30/rc/2/rc.htm\"&gt;&lt;img src=\"http://da.feedsportal.com/r/186528923758/u/75/f/3050/c/205/s/35f0066b/sc/30/rc/2/rc.img\" border=\"0\"/&gt;&lt;/a&gt;&lt;br/&gt;&lt;a href=\"http://da.feedsportal.com/r/186528923758/u/75/f/3050/c/205/s/35f0066b/sc/30/rc/3/rc.htm\"&gt;&lt;img src=\"http://da.feedsportal.com/r/186528923758/u/75/f/3050/c/205/s/35f0066b/sc/30/rc/3/rc.img\" border=\"0\"/&gt;&lt;/a&gt;&lt;br/&gt;&lt;br/&gt;&lt;a href=\"http://da.feedsportal.com/r/186528923758/u/75/f/3050/c/205/s/35f0066b/a2.htm\"&gt;&lt;img src=\"http://da.feedsportal.com/r/186528923758/u/75/f/3050/c/205/s/35f0066b/a2.img\" border=\"0\"/&gt;&lt;/a&gt;&lt;img width=\"1\" height=\"1\" src=\"http://pi.feedsportal.com/r/186528923758/u/75/f/3050/c/205/s/35f0066b/a2t.img\" border=\"0\"/&gt;</description><enclosure url=\"http://s2.lemde.fr/image/2012/07/12/0x0/1732860_3_5349_devant-le-site-psa-de-rennes_5d1ace8dd44ee5adf55bbbfef35002f5.jpg\" length=\"121120\" type=\"image/jpeg\" /><pubDate>Wed, 15 Jan 2014 15:01:19 GMT</pubDate><guid isPermaLink=\"false\">http://www.lemonde.fr/tiny/4348481/</guid></item></channel></rss>\\r\\n'"
       ]
      }
     ],
     "prompt_number": 54
    },
    {
     "cell_type": "code",
     "collapsed": false,
     "input": [
      "arbre = etree.parse(response)\n",
      "racine = arbre.getroot()\n",
      "racine.keys()\n",
      "# .../..."
     ],
     "language": "python",
     "metadata": {},
     "outputs": []
    },
    {
     "cell_type": "markdown",
     "metadata": {},
     "source": [
      "Rappel CSV avec Pandas:\n",
      "----------------------"
     ]
    },
    {
     "cell_type": "code",
     "collapsed": false,
     "input": [
      "%%file data.csv\n",
      "Langage,Avantage,Inconvenient\n",
      "Java,'Structur\u00e9',Verbeux\n",
      "JavaScript,'Pr\u00e9sent Partout','Syntaxe Sp\u00e9ciale'\n",
      "PHP,Simple,'Peu concis'\n",
      "Python,Puissant,'2to3'"
     ],
     "language": "python",
     "metadata": {},
     "outputs": [
      {
       "output_type": "stream",
       "stream": "stdout",
       "text": [
        "Writing data.csv\n"
       ]
      }
     ],
     "prompt_number": 1
    },
    {
     "cell_type": "code",
     "collapsed": false,
     "input": [
      "# Relecture du fichier\n",
      "import pandas\n",
      "df = pandas.read_csv('data.csv')"
     ],
     "language": "python",
     "metadata": {},
     "outputs": [],
     "prompt_number": 3
    },
    {
     "cell_type": "code",
     "collapsed": false,
     "input": [
      "df"
     ],
     "language": "python",
     "metadata": {},
     "outputs": [
      {
       "html": [
        "<div style=\"max-height:1000px;max-width:1500px;overflow:auto;\">\n",
        "<table border=\"1\" class=\"dataframe\">\n",
        "  <thead>\n",
        "    <tr style=\"text-align: right;\">\n",
        "      <th></th>\n",
        "      <th>Langage</th>\n",
        "      <th>Avantage</th>\n",
        "      <th>Inconvenient</th>\n",
        "    </tr>\n",
        "  </thead>\n",
        "  <tbody>\n",
        "    <tr>\n",
        "      <th>0</th>\n",
        "      <td>       Java</td>\n",
        "      <td>       'Structur\u00e9'</td>\n",
        "      <td>            Verbeux</td>\n",
        "    </tr>\n",
        "    <tr>\n",
        "      <th>1</th>\n",
        "      <td> JavaScript</td>\n",
        "      <td> 'Pr\u00e9sent Partout'</td>\n",
        "      <td> 'Syntaxe Sp\u00e9ciale'</td>\n",
        "    </tr>\n",
        "    <tr>\n",
        "      <th>2</th>\n",
        "      <td>        PHP</td>\n",
        "      <td>            Simple</td>\n",
        "      <td>       'Peu concis'</td>\n",
        "    </tr>\n",
        "    <tr>\n",
        "      <th>3</th>\n",
        "      <td>     Python</td>\n",
        "      <td>          Puissant</td>\n",
        "      <td>             '2to3'</td>\n",
        "    </tr>\n",
        "  </tbody>\n",
        "</table>\n",
        "</div>"
       ],
       "metadata": {},
       "output_type": "pyout",
       "prompt_number": 4,
       "text": [
        "      Langage           Avantage        Inconvenient\n",
        "0        Java        'Structur\u00e9'             Verbeux\n",
        "1  JavaScript  'Pr\u00e9sent Partout'  'Syntaxe Sp\u00e9ciale'\n",
        "2         PHP             Simple        'Peu concis'\n",
        "3      Python           Puissant              '2to3'"
       ]
      }
     ],
     "prompt_number": 4
    },
    {
     "cell_type": "code",
     "collapsed": false,
     "input": [],
     "language": "python",
     "metadata": {},
     "outputs": []
    }
   ],
   "metadata": {}
  }
 ]
}