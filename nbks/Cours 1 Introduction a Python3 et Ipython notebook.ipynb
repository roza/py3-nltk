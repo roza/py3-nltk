{
 "metadata": {
  "name": ""
 },
 "nbformat": 3,
 "nbformat_minor": 0,
 "worksheets": [
  {
   "cells": [
    {
     "cell_type": "code",
     "collapsed": false,
     "input": [
      "from IPython.display import Image\n",
      "PythonLogo = Image(filename='./images/python3.png')\n",
      "nbMenus = Image(filename='./images/notebook.png')"
     ],
     "language": "python",
     "metadata": {
      "slideshow": {
       "slide_type": "skip"
      }
     },
     "outputs": [],
     "prompt_number": 45
    },
    {
     "cell_type": "markdown",
     "metadata": {
      "slideshow": {
       "slide_type": "slide"
      }
     },
     "source": [
      "Le langage Python: Simplicit\u00e9 et Expressivit\u00e9\n",
      "============================================\n",
      "Cours Master 1 Lastic Sp\u00e9cialit\u00e9 TAL 2014\n",
      "----------------------------------------\n",
      "\n",
      " [G\u00e9rard Rozsavolgyi](mailto:roza@univ-orleans.fr \"roza@univ-orleans.fr\")"
     ]
    },
    {
     "cell_type": "code",
     "collapsed": false,
     "input": [
      "PythonLogo"
     ],
     "language": "python",
     "metadata": {},
     "outputs": [
      {
       "metadata": {},
       "output_type": "pyout",
       "png": "[encoded data removed]",
       "prompt_number": 108,
       "text": [
        "<IPython.core.display.Image at 0x10ed17f10>"
       ]
      }
     ],
     "prompt_number": 108
    },
    {
     "cell_type": "markdown",
     "metadata": {
      "slideshow": {
       "slide_type": "slide"
      }
     },
     "source": [
      "Principaux avantages de Python\n",
      "-----------------------------"
     ]
    },
    {
     "cell_type": "markdown",
     "metadata": {
      "slideshow": {
       "slide_type": "subslide"
      }
     },
     "source": [
      "- Simplicit\u00e9\n",
      "- Concision (~1/4 du programme \u00e9quivalent en Java)\n",
      "- Portabilit\u00e9\n",
      "- Beaucoup de librairies"
     ]
    },
    {
     "cell_type": "heading",
     "level": 2,
     "metadata": {
      "slideshow": {
       "slide_type": "subslide"
      }
     },
     "source": [
      "Autres caract\u00e9ristiques"
     ]
    },
    {
     "cell_type": "markdown",
     "metadata": {
      "slideshow": {
       "slide_type": "-"
      }
     },
     "source": [
      "- Langage de script\n",
      "- Interpr\u00e9t\u00e9\n",
      "- Orient\u00e9 Objet\n",
      "- Faiblement typ\u00e9 (vs Java par exemple)\n",
      "- Enti\u00e8rement Open Source"
     ]
    },
    {
     "cell_type": "heading",
     "level": 2,
     "metadata": {
      "slideshow": {
       "slide_type": "subslide"
      }
     },
     "source": [
      "Utilisateurs c\u00e9l\u00e8bres"
     ]
    },
    {
     "cell_type": "markdown",
     "metadata": {},
     "source": [
      "- Google\n",
      "- YouTube\n",
      "- Dropbox\n",
      "- NeufBox\n",
      "- Utilisation Scientifique\n",
      "- Web mining, linguistique"
     ]
    },
    {
     "cell_type": "heading",
     "level": 2,
     "metadata": {
      "slideshow": {
       "slide_type": "subslide"
      }
     },
     "source": [
      "Inconv\u00e9nients"
     ]
    },
    {
     "cell_type": "markdown",
     "metadata": {},
     "source": [
      "- Relative lenteur\n",
      "- D\u00e9veloppement un peu chaotique\n",
      "- Passage de Python2 \u00e0 Python3 laborieux "
     ]
    },
    {
     "cell_type": "heading",
     "level": 2,
     "metadata": {
      "slideshow": {
       "slide_type": "slide"
      }
     },
     "source": [
      "Environnements"
     ]
    },
    {
     "cell_type": "markdown",
     "metadata": {
      "slideshow": {
       "slide_type": "-"
      }
     },
     "source": [
      "- En ligne de commande\n",
      "- Avec un \u00e9diteur d\u00e9di\u00e9 (IDLE, PyCharm, SublimeText, etc.)\n",
      "- Avec Ipython notebook"
     ]
    },
    {
     "cell_type": "markdown",
     "metadata": {
      "slideshow": {
       "slide_type": "subslide"
      }
     },
     "source": [
      "Ipython notebook:\n",
      "-----------------\n",
      "- D\u00e9veloppement dans un navigateur\n",
      "- Facilit\u00e9s de deboggage\n",
      "- Facilit\u00e9s \u00e0 commenter du code\n"
     ]
    },
    {
     "cell_type": "markdown",
     "metadata": {
      "slideshow": {
       "slide_type": "slide"
      }
     },
     "source": [
      "Dans la pratique:\n",
      "-----------------\n",
      "- Connectez vous \u00e0 [Un notebook lanc\u00e9 localement](http://127.0.0.1:8888 \"Notebook Lanc\u00e9 localement\")\n",
      "- Tapez le code Python dans une cellule\n",
      "- Ex\u00e9cutez le en cliquant sur la fl\u00e8che *>* RUN\n",
      "- ou en apuyant sur MAJ ENTER"
     ]
    },
    {
     "cell_type": "markdown",
     "metadata": {
      "slideshow": {
       "slide_type": "subslide"
      }
     },
     "source": [
      "IPython Notebook:\n",
      "----------------\n",
      "- Cellules de code ou de texte\n",
      "- On peut aussi afficher images, animations, videos, sons, pages web\n",
      "- On peut ex\u00e9cuter celle qu'on veut\n",
      "- Utiliser les icones ou le menu\n",
      "\n",
      "Le menu de IPython: \n"
     ]
    },
    {
     "cell_type": "code",
     "collapsed": false,
     "input": [
      "nbMenus"
     ],
     "language": "python",
     "metadata": {},
     "outputs": [
      {
       "metadata": {},
       "output_type": "pyout",
       "png": "[encoded data removed]",
       "prompt_number": 47,
       "text": [
        "<IPython.core.display.Image at 0x10ed17e10>"
       ]
      }
     ],
     "prompt_number": 47
    },
    {
     "cell_type": "markdown",
     "metadata": {
      "slideshow": {
       "slide_type": "slide"
      }
     },
     "source": [
      "Et un notebook de d\u00e9monstration :\n",
      "--------------------------------\n",
      "Notez le menu responsive ..."
     ]
    },
    {
     "cell_type": "code",
     "collapsed": false,
     "input": [
      "from IPython.display import HTML\n",
      "HTML('<iframe src=http://nbviewer.ipython.org/github/ipython/ipython/blob/master/examples/notebooks/Part%201%20-%20Running%20Code.ipynb width=700 height=350></iframe>')"
     ],
     "language": "python",
     "metadata": {
      "slideshow": {
       "slide_type": "slide"
      }
     },
     "outputs": [
      {
       "html": [
        "<iframe src=http://nbviewer.ipython.org/github/ipython/ipython/blob/master/examples/notebooks/Part%201%20-%20Running%20Code.ipynb width=700 height=350></iframe>"
       ],
       "metadata": {},
       "output_type": "pyout",
       "prompt_number": 49,
       "text": [
        "<IPython.core.display.HTML at 0x10ed179d0>"
       ]
      }
     ],
     "prompt_number": 49
    },
    {
     "cell_type": "heading",
     "level": 2,
     "metadata": {
      "slideshow": {
       "slide_type": "slide"
      }
     },
     "source": [
      "Et maintenant codons un peu de Python:"
     ]
    },
    {
     "cell_type": "heading",
     "level": 2,
     "metadata": {
      "slideshow": {
       "slide_type": "subslide"
      }
     },
     "source": [
      "Types \u00e9l\u00e9mentaires de donn\u00e9es"
     ]
    },
    {
     "cell_type": "markdown",
     "metadata": {
      "slideshow": {
       "slide_type": "subslide"
      }
     },
     "source": [
      "- Entiers\n",
      "- Flottants\n",
      "- Bool\u00e9ens\n",
      "- Chaines\n",
      "- None"
     ]
    },
    {
     "cell_type": "markdown",
     "metadata": {
      "slideshow": {
       "slide_type": "subslide"
      }
     },
     "source": [
      "Puis types tr\u00e8s utiles :\n",
      "-----------------------\n",
      "- Listes\n",
      "- Tuples\n",
      "- Dictionnaires"
     ]
    },
    {
     "cell_type": "heading",
     "level": 2,
     "metadata": {
      "slideshow": {
       "slide_type": "slide"
      }
     },
     "source": [
      "Exemples num\u00e9riques"
     ]
    },
    {
     "cell_type": "code",
     "collapsed": false,
     "input": [
      "1+3"
     ],
     "language": "python",
     "metadata": {},
     "outputs": [
      {
       "metadata": {},
       "output_type": "pyout",
       "prompt_number": 17,
       "text": [
        "4"
       ]
      }
     ],
     "prompt_number": 17
    },
    {
     "cell_type": "code",
     "collapsed": false,
     "input": [
      "5*7"
     ],
     "language": "python",
     "metadata": {},
     "outputs": [
      {
       "metadata": {},
       "output_type": "pyout",
       "prompt_number": 18,
       "text": [
        "35"
       ]
      }
     ],
     "prompt_number": 18
    },
    {
     "cell_type": "code",
     "collapsed": false,
     "input": [
      "5/2"
     ],
     "language": "python",
     "metadata": {},
     "outputs": [
      {
       "metadata": {},
       "output_type": "pyout",
       "prompt_number": 19,
       "text": [
        "2.5"
       ]
      }
     ],
     "prompt_number": 19
    },
    {
     "cell_type": "code",
     "collapsed": false,
     "input": [
      "5//2"
     ],
     "language": "python",
     "metadata": {},
     "outputs": [
      {
       "metadata": {},
       "output_type": "pyout",
       "prompt_number": 20,
       "text": [
        "2"
       ]
      }
     ],
     "prompt_number": 20
    },
    {
     "cell_type": "code",
     "collapsed": false,
     "input": [
      "0.1+0.1+0.1-0.3\n",
      "# Que se passe-t-il ?"
     ],
     "language": "python",
     "metadata": {},
     "outputs": [
      {
       "metadata": {},
       "output_type": "pyout",
       "prompt_number": 21,
       "text": [
        "5.551115123125783e-17"
       ]
      }
     ],
     "prompt_number": 21
    },
    {
     "cell_type": "markdown",
     "metadata": {
      "slideshow": {
       "slide_type": "subslide"
      }
     },
     "source": [
      "Bool\u00e9ens:\n",
      "---------"
     ]
    },
    {
     "cell_type": "code",
     "collapsed": false,
     "input": [
      "True and True"
     ],
     "language": "python",
     "metadata": {},
     "outputs": [
      {
       "metadata": {},
       "output_type": "pyout",
       "prompt_number": 31,
       "text": [
        "True"
       ]
      }
     ],
     "prompt_number": 31
    },
    {
     "cell_type": "code",
     "collapsed": false,
     "input": [
      "True and False"
     ],
     "language": "python",
     "metadata": {},
     "outputs": [
      {
       "metadata": {},
       "output_type": "pyout",
       "prompt_number": 32,
       "text": [
        "False"
       ]
      }
     ],
     "prompt_number": 32
    },
    {
     "cell_type": "code",
     "collapsed": false,
     "input": [
      "True or False"
     ],
     "language": "python",
     "metadata": {},
     "outputs": [
      {
       "metadata": {},
       "output_type": "pyout",
       "prompt_number": 33,
       "text": [
        "True"
       ]
      }
     ],
     "prompt_number": 33
    },
    {
     "cell_type": "code",
     "collapsed": false,
     "input": [
      "( 2 > 3 ) and ( 1 < 2)"
     ],
     "language": "python",
     "metadata": {},
     "outputs": [
      {
       "metadata": {},
       "output_type": "pyout",
       "prompt_number": 34,
       "text": [
        "False"
       ]
      }
     ],
     "prompt_number": 34
    },
    {
     "cell_type": "code",
     "collapsed": false,
     "input": [
      "( 1 < 2 < 5 )"
     ],
     "language": "python",
     "metadata": {},
     "outputs": [
      {
       "metadata": {},
       "output_type": "pyout",
       "prompt_number": 35,
       "text": [
        "True"
       ]
      }
     ],
     "prompt_number": 35
    },
    {
     "cell_type": "markdown",
     "metadata": {
      "slideshow": {
       "slide_type": "slide"
      }
     },
     "source": [
      "Les chaines de caract\u00e8res:\n",
      "-------------------------\n",
      "- Strings\n",
      "- M\u00e9thodes de base\n",
      "- ... et un peu plus\n",
      "    "
     ]
    },
    {
     "cell_type": "markdown",
     "metadata": {
      "slideshow": {
       "slide_type": "subslide"
      }
     },
     "source": [
      "D\u00e9clarer et afficher une chaine:"
     ]
    },
    {
     "cell_type": "code",
     "collapsed": false,
     "input": [
      "machaine='azerty'\n",
      "# ou\n",
      "machaine=\"azerty\"\n",
      "print(machaine)"
     ],
     "language": "python",
     "metadata": {
      "slideshow": {
       "slide_type": "-"
      }
     },
     "outputs": [
      {
       "output_type": "stream",
       "stream": "stdout",
       "text": [
        "azerty\n"
       ]
      }
     ],
     "prompt_number": 22
    },
    {
     "cell_type": "code",
     "collapsed": false,
     "input": [
      "autrechaine=\"une belle 'chaine'\"\n",
      "print(autrechaine)"
     ],
     "language": "python",
     "metadata": {},
     "outputs": [
      {
       "output_type": "stream",
       "stream": "stdout",
       "text": [
        "une belle 'chaine'\n"
       ]
      }
     ],
     "prompt_number": 23
    },
    {
     "cell_type": "markdown",
     "metadata": {
      "slideshow": {
       "slide_type": "subslide"
      }
     },
     "source": [
      "Longueur d'une chaine:"
     ]
    },
    {
     "cell_type": "code",
     "collapsed": false,
     "input": [
      "vide=''\n",
      "len(vide)"
     ],
     "language": "python",
     "metadata": {
      "slideshow": {
       "slide_type": "-"
      }
     },
     "outputs": [
      {
       "metadata": {},
       "output_type": "pyout",
       "prompt_number": 24,
       "text": [
        "0"
       ]
      }
     ],
     "prompt_number": 24
    },
    {
     "cell_type": "code",
     "collapsed": false,
     "input": [
      "len(autrechaine)"
     ],
     "language": "python",
     "metadata": {},
     "outputs": [
      {
       "metadata": {},
       "output_type": "pyout",
       "prompt_number": 25,
       "text": [
        "18"
       ]
      }
     ],
     "prompt_number": 25
    },
    {
     "cell_type": "code",
     "collapsed": false,
     "input": [
      "len(None)"
     ],
     "language": "python",
     "metadata": {},
     "outputs": [
      {
       "ename": "TypeError",
       "evalue": "object of type 'NoneType' has no len()",
       "output_type": "pyerr",
       "traceback": [
        "\u001b[0;31m---------------------------------------------------------------------------\u001b[0m\n\u001b[0;31mTypeError\u001b[0m                                 Traceback (most recent call last)",
        "\u001b[0;32m<ipython-input-50-48ab06a8724d>\u001b[0m in \u001b[0;36m<module>\u001b[0;34m()\u001b[0m\n\u001b[0;32m----> 1\u001b[0;31m \u001b[0mlen\u001b[0m\u001b[0;34m(\u001b[0m\u001b[0;32mNone\u001b[0m\u001b[0;34m)\u001b[0m\u001b[0;34m\u001b[0m\u001b[0m\n\u001b[0m",
        "\u001b[0;31mTypeError\u001b[0m: object of type 'NoneType' has no len()"
       ]
      }
     ],
     "prompt_number": 50
    },
    {
     "cell_type": "markdown",
     "metadata": {
      "slideshow": {
       "slide_type": "slide"
      }
     },
     "source": [
      "Op\u00e9rations sur les chaines:\n",
      "--------------------------"
     ]
    },
    {
     "cell_type": "code",
     "collapsed": false,
     "input": [
      "S1=\"bonjour\"\n",
      "S2=\" tout le monde !\"\n",
      "print(S1+S2)"
     ],
     "language": "python",
     "metadata": {
      "slideshow": {
       "slide_type": "subslide"
      }
     },
     "outputs": [
      {
       "output_type": "stream",
       "stream": "stdout",
       "text": [
        "bonjour tout le monde !\n"
       ]
      }
     ],
     "prompt_number": 26
    },
    {
     "cell_type": "markdown",
     "metadata": {
      "slideshow": {
       "slide_type": "subslide"
      }
     },
     "source": [
      "On ne peut pas tout faire:"
     ]
    },
    {
     "cell_type": "code",
     "collapsed": false,
     "input": [
      "S1*S2"
     ],
     "language": "python",
     "metadata": {},
     "outputs": [
      {
       "ename": "TypeError",
       "evalue": "can't multiply sequence by non-int of type 'str'",
       "output_type": "pyerr",
       "traceback": [
        "\u001b[0;31m---------------------------------------------------------------------------\u001b[0m\n\u001b[0;31mTypeError\u001b[0m                                 Traceback (most recent call last)",
        "\u001b[0;32m<ipython-input-27-892aa9103dbb>\u001b[0m in \u001b[0;36m<module>\u001b[0;34m()\u001b[0m\n\u001b[0;32m----> 1\u001b[0;31m \u001b[0mS1\u001b[0m\u001b[0;34m*\u001b[0m\u001b[0mS2\u001b[0m\u001b[0;34m\u001b[0m\u001b[0m\n\u001b[0m",
        "\u001b[0;31mTypeError\u001b[0m: can't multiply sequence by non-int of type 'str'"
       ]
      }
     ],
     "prompt_number": 27
    },
    {
     "cell_type": "markdown",
     "metadata": {
      "slideshow": {
       "slide_type": "subslide"
      }
     },
     "source": [
      "Mais quand m\u00eame :"
     ]
    },
    {
     "cell_type": "code",
     "collapsed": false,
     "input": [
      "S1*3"
     ],
     "language": "python",
     "metadata": {},
     "outputs": [
      {
       "metadata": {},
       "output_type": "pyout",
       "prompt_number": 51,
       "text": [
        "'bonjourbonjourbonjour'"
       ]
      }
     ],
     "prompt_number": 51
    },
    {
     "cell_type": "code",
     "collapsed": false,
     "input": [
      "# ou\n",
      "print('*'*60)"
     ],
     "language": "python",
     "metadata": {},
     "outputs": [
      {
       "output_type": "stream",
       "stream": "stdout",
       "text": [
        "************************************************************\n"
       ]
      }
     ],
     "prompt_number": 52
    },
    {
     "cell_type": "markdown",
     "metadata": {
      "slideshow": {
       "slide_type": "slide"
      }
     },
     "source": [
      "Extraction de sous-chaines:\n",
      "--------------------------"
     ]
    },
    {
     "cell_type": "code",
     "collapsed": false,
     "input": [
      "S='azertyuiop'\n",
      "print(S[1])\n",
      "print(S[1:5])"
     ],
     "language": "python",
     "metadata": {
      "slideshow": {
       "slide_type": "subslide"
      }
     },
     "outputs": [
      {
       "output_type": "stream",
       "stream": "stdout",
       "text": [
        "z\n",
        "zert\n"
       ]
      }
     ],
     "prompt_number": 56
    },
    {
     "cell_type": "markdown",
     "metadata": {
      "slideshow": {
       "slide_type": "subslide"
      }
     },
     "source": [
      "et \u00e7a qu'est-ce que \u00e7a fait ?"
     ]
    },
    {
     "cell_type": "code",
     "collapsed": false,
     "input": [
      "print(S[-1])\n",
      "\n",
      "print(S[-2])"
     ],
     "language": "python",
     "metadata": {},
     "outputs": [
      {
       "output_type": "stream",
       "stream": "stdout",
       "text": [
        "p\n",
        "o\n"
       ]
      }
     ],
     "prompt_number": 57
    },
    {
     "cell_type": "code",
     "collapsed": false,
     "input": [
      "S=\"Bonjour, il fait beau aujourd'hui, n'est-ce pas \"\n",
      "S.split(',')"
     ],
     "language": "python",
     "metadata": {
      "slideshow": {
       "slide_type": "subslide"
      }
     },
     "outputs": [
      {
       "metadata": {},
       "output_type": "pyout",
       "prompt_number": 30,
       "text": [
        "['Bonjour', \" il fait beau aujourd'hui\", \" n'est-ce pas \"]"
       ]
      }
     ],
     "prompt_number": 30
    },
    {
     "cell_type": "markdown",
     "metadata": {
      "slideshow": {
       "slide_type": "slide"
      }
     },
     "source": [
      "recherche, remplacement et nettoyage dans des chaines:\n",
      "---------------------------------------------------"
     ]
    },
    {
     "cell_type": "code",
     "collapsed": false,
     "input": [
      "# Toujours avec S = \"Bonjour, il fait beau aujourd'hui, n'est-ce pas \"\n",
      "S.find('fait')\n",
      "# Renvoie l'indice du d\u00e9but de la chaine 'fait' dans S"
     ],
     "language": "python",
     "metadata": {
      "slideshow": {
       "slide_type": "subslide"
      }
     },
     "outputs": [
      {
       "metadata": {},
       "output_type": "pyout",
       "prompt_number": 36,
       "text": [
        "12"
       ]
      }
     ],
     "prompt_number": 36
    },
    {
     "cell_type": "code",
     "collapsed": false,
     "input": [
      "S.replace('fait','marche')"
     ],
     "language": "python",
     "metadata": {
      "slideshow": {
       "slide_type": "subslide"
      }
     },
     "outputs": [
      {
       "metadata": {},
       "output_type": "pyout",
       "prompt_number": 37,
       "text": [
        "\"Bonjour, il marche beau aujourd'hui, n'est-ce pas \""
       ]
      }
     ],
     "prompt_number": 37
    },
    {
     "cell_type": "code",
     "collapsed": false,
     "input": [
      "S=\"ahoouutch  \"\n",
      "S.rstrip()\n",
      "# Enl\u00e8ve les blancs \u00e0 la fin d'une chaine"
     ],
     "language": "python",
     "metadata": {
      "slideshow": {
       "slide_type": "subslide"
      }
     },
     "outputs": [
      {
       "metadata": {},
       "output_type": "pyout",
       "prompt_number": 38,
       "text": [
        "'ahoouutch'"
       ]
      }
     ],
     "prompt_number": 38
    },
    {
     "cell_type": "markdown",
     "metadata": {
      "slideshow": {
       "slide_type": "slide"
      }
     },
     "source": [
      "On peut faire facilement appel \u00e0 des librairies plus \u00e9labor\u00e9es:"
     ]
    },
    {
     "cell_type": "code",
     "collapsed": false,
     "input": [
      "# On importe la librairie\n",
      "import networkx as nx\n",
      "# On cr\u00e9e un Graphe\n",
      "G = nx.DiGraph()\n",
      "# On y ajoute 3 \u00e9l\u00e9ments A, B et C\n",
      "G.add_nodes_from('ABC')\n",
      "# Puis un lien de A \u00e0 B\n",
      "G.add_edge('A','B')\n",
      "# et un lien de A \u00e0 C\n",
      "G.add_edge('A','C')\n",
      "# On pr\u00e9cise les positions de A, B et C\n",
      "pos = { 'A' : (0,0), 'B' : (1,1), 'C' : (-1,1) }\n",
      "# et on affiche\n",
      "nx.draw(G, pos, edge_color='b',node_color='y')\n"
     ],
     "language": "python",
     "metadata": {},
     "outputs": [
      {
       "metadata": {},
       "output_type": "display_data",
       "png": "[encoded data removed]",
       "text": [
        "<matplotlib.figure.Figure at 0x10acbad10>"
       ]
      }
     ],
     "prompt_number": 1
    },
    {
     "cell_type": "markdown",
     "metadata": {},
     "source": [
      "Manipuler des donn\u00e9es dans des fichiers csv:\n",
      "------------------------------------------"
     ]
    },
    {
     "cell_type": "code",
     "collapsed": false,
     "input": [
      "import pandas"
     ],
     "language": "python",
     "metadata": {},
     "outputs": [],
     "prompt_number": 4
    },
    {
     "cell_type": "code",
     "collapsed": false,
     "input": [
      "%%bash\n",
      "mkdir data"
     ],
     "language": "python",
     "metadata": {},
     "outputs": [
      {
       "output_type": "stream",
       "stream": "stderr",
       "text": [
        "mkdir: data: File exists\n"
       ]
      }
     ],
     "prompt_number": 7
    },
    {
     "cell_type": "code",
     "collapsed": false,
     "input": [
      "%%file data/data.csv\n",
      "Langage,Avantage,Inconvenient\n",
      "Java,'Structur\u00e9',Verbeux\n",
      "JavaScript,'Pr\u00e9sent Partout','Syntaxe Sp\u00e9ciale'\n",
      "PHP,Simple,'Peu concis'\n",
      "Python,Puissant,'2to3'"
     ],
     "language": "python",
     "metadata": {},
     "outputs": [
      {
       "output_type": "stream",
       "stream": "stdout",
       "text": [
        "Overwriting data/data.csv\n"
       ]
      }
     ],
     "prompt_number": 5
    },
    {
     "cell_type": "code",
     "collapsed": false,
     "input": [
      "# Relecture du fichier\n",
      "df = pandas.read_csv('data/data.csv')"
     ],
     "language": "python",
     "metadata": {},
     "outputs": [],
     "prompt_number": 6
    },
    {
     "cell_type": "code",
     "collapsed": false,
     "input": [
      "df"
     ],
     "language": "python",
     "metadata": {},
     "outputs": [
      {
       "html": [
        "<div style=\"max-height:1000px;max-width:1500px;overflow:auto;\">\n",
        "<table border=\"1\" class=\"dataframe\">\n",
        "  <thead>\n",
        "    <tr style=\"text-align: right;\">\n",
        "      <th></th>\n",
        "      <th>Langage</th>\n",
        "      <th>Avantage</th>\n",
        "      <th>Inconvenient</th>\n",
        "    </tr>\n",
        "  </thead>\n",
        "  <tbody>\n",
        "    <tr>\n",
        "      <th>0</th>\n",
        "      <td>       Java</td>\n",
        "      <td>       'Structur\u00e9'</td>\n",
        "      <td>            Verbeux</td>\n",
        "    </tr>\n",
        "    <tr>\n",
        "      <th>1</th>\n",
        "      <td> JavaScript</td>\n",
        "      <td> 'Pr\u00e9sent Partout'</td>\n",
        "      <td> 'Syntaxe Sp\u00e9ciale'</td>\n",
        "    </tr>\n",
        "    <tr>\n",
        "      <th>2</th>\n",
        "      <td>        PHP</td>\n",
        "      <td>            Simple</td>\n",
        "      <td>       'Peu concis'</td>\n",
        "    </tr>\n",
        "    <tr>\n",
        "      <th>3</th>\n",
        "      <td>     Python</td>\n",
        "      <td>          Puissant</td>\n",
        "      <td>             '2to3'</td>\n",
        "    </tr>\n",
        "  </tbody>\n",
        "</table>\n",
        "</div>"
       ],
       "metadata": {},
       "output_type": "pyout",
       "prompt_number": 71,
       "text": [
        "      Langage           Avantage        Inconvenient\n",
        "0        Java        'Structur\u00e9'             Verbeux\n",
        "1  JavaScript  'Pr\u00e9sent Partout'  'Syntaxe Sp\u00e9ciale'\n",
        "2         PHP             Simple        'Peu concis'\n",
        "3      Python           Puissant              '2to3'"
       ]
      }
     ],
     "prompt_number": 71
    },
    {
     "cell_type": "heading",
     "level": 2,
     "metadata": {
      "slideshow": {
       "slide_type": "slide"
      }
     },
     "source": [
      ".. et manipuler du texte:"
     ]
    },
    {
     "cell_type": "code",
     "collapsed": false,
     "input": [
      "import nltk"
     ],
     "language": "python",
     "metadata": {},
     "outputs": [],
     "prompt_number": 8
    },
    {
     "cell_type": "code",
     "collapsed": false,
     "input": [
      "phrase=\"Aujourd'hui il fait beau et je suis tr\u00e8s content. j'aimerai aller au Parc me promener\"\n",
      "# essayez les compl\u00e9tions en tapant nltk. puis la touche TAB ...\n",
      "tokens=nltk.word_tokenize(phrase)\n",
      "tokens"
     ],
     "language": "python",
     "metadata": {},
     "outputs": [
      {
       "metadata": {},
       "output_type": "pyout",
       "prompt_number": 9,
       "text": [
        "[\"Aujourd'hui\",\n",
        " 'il',\n",
        " 'fait',\n",
        " 'beau',\n",
        " 'et',\n",
        " 'je',\n",
        " 'suis',\n",
        " 'tr\u00e8s',\n",
        " 'content.',\n",
        " \"j'aimerai\",\n",
        " 'aller',\n",
        " 'au',\n",
        " 'Parc',\n",
        " 'me',\n",
        " 'promener']"
       ]
      }
     ],
     "prompt_number": 9
    },
    {
     "cell_type": "markdown",
     "metadata": {},
     "source": [
      "Mais on peut aussi prendre des textes plus importants:"
     ]
    },
    {
     "cell_type": "code",
     "collapsed": false,
     "input": [
      "from urllib import request\n",
      "url='http://www.gutenberg.org/cache/epub/17708/pg17708.txt'\n",
      "response = request.urlopen(url)\n",
      "gaspard = response.read().decode('utf8')\n",
      "type(gaspard)\n",
      "\n",
      "# Si il faut passer \u00e0 travers un proxy:\n",
      "# proxies = {'http': 'http://www.monproxy.com:3128'}\n",
      "# request.ProxyHandler(proxies)\n"
     ],
     "language": "python",
     "metadata": {
      "slideshow": {
       "slide_type": "subslide"
      }
     },
     "outputs": [
      {
       "metadata": {},
       "output_type": "pyout",
       "prompt_number": 10,
       "text": [
        "builtins.str"
       ]
      }
     ],
     "prompt_number": 10
    },
    {
     "cell_type": "code",
     "collapsed": false,
     "input": [
      "len(gaspard)"
     ],
     "language": "python",
     "metadata": {},
     "outputs": [
      {
       "metadata": {},
       "output_type": "pyout",
       "prompt_number": 83,
       "text": [
        "148008"
       ]
      }
     ],
     "prompt_number": 83
    },
    {
     "cell_type": "code",
     "collapsed": false,
     "input": [
      "gaspard[:70]"
     ],
     "language": "python",
     "metadata": {},
     "outputs": [
      {
       "metadata": {},
       "output_type": "pyout",
       "prompt_number": 88,
       "text": [
        "'The Project Gutenberg EBook of Gaspard de la nuit, by Louis Bertrand\\r\\n'"
       ]
      }
     ],
     "prompt_number": 88
    },
    {
     "cell_type": "markdown",
     "metadata": {},
     "source": [
      "Un peu de po\u00e9sie:"
     ]
    },
    {
     "cell_type": "code",
     "collapsed": false,
     "input": [
      "print(gaspard[790:1520])"
     ],
     "language": "python",
     "metadata": {},
     "outputs": [
      {
       "output_type": "stream",
       "stream": "stdout",
       "text": [
        "       Ami, te souviens-tu qu'en route pour Cologne,\r\n",
        "          Un dimanche, \u00e0 Dijon, au coeur de la Bourgogne,\r\n",
        "          Nous allions admirant clochers, portails et tours,\r\n",
        "          Et les vieilles maisons dans les arri\u00e8re-cours?\r\n",
        "\r\n",
        "          SAINTE-BEUVE.--_Les Consolations_.\r\n",
        "\r\n",
        "     Gothique Donjon\r\n",
        "     Et Fl\u00e8che gothique[1].\r\n",
        "     Dans un ciel d'optique,\r\n",
        "     L\u00e0-bas, c'est Dijon.\r\n",
        "     Ses joyeuses treilles\r\n",
        "     N'ont point leurs pareilles;\r\n",
        "     Ses clochers jadis\r\n",
        "     Se comptaient par dix.\r\n",
        "\r\n",
        "     L\u00e0, plus d'une pinte\r\n",
        "     Rat sculpt\u00e9e ou peinte;\r\n",
        "     l\u00e0, plus d'un portail\r\n",
        "     S'ouvre en \u00e9ventail.\r\n",
        "     Dijon, _moult te tarde!_[2]\r\n",
        "     Et mon luth camard\r\n",
        "     Chante ta moutarde\r\n",
        "     Et ton Jacquemart!\n"
       ]
      }
     ],
     "prompt_number": 11
    },
    {
     "cell_type": "code",
     "collapsed": false,
     "input": [],
     "language": "python",
     "metadata": {},
     "outputs": [],
     "prompt_number": 113
    },
    {
     "cell_type": "code",
     "collapsed": false,
     "input": [],
     "language": "python",
     "metadata": {},
     "outputs": []
    }
   ],
   "metadata": {}
  }
 ]
}