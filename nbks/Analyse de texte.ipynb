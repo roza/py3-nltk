{
 "metadata": {
  "name": ""
 },
 "nbformat": 3,
 "nbformat_minor": 0,
 "worksheets": [
  {
   "cells": [
    {
     "cell_type": "code",
     "collapsed": false,
     "input": [
      "from urllib import request\n",
      "url='http://www.gutenberg.org/cache/epub/16/pg16.txt'\n",
      "response = request.urlopen(url)\n",
      "PeterPan = response.read().decode('utf8')"
     ],
     "language": "python",
     "metadata": {},
     "outputs": [],
     "prompt_number": 1
    },
    {
     "cell_type": "code",
     "collapsed": false,
     "input": [
      "type(PeterPan)"
     ],
     "language": "python",
     "metadata": {},
     "outputs": [
      {
       "metadata": {},
       "output_type": "pyout",
       "prompt_number": 2,
       "text": [
        "builtins.str"
       ]
      }
     ],
     "prompt_number": 2
    },
    {
     "cell_type": "code",
     "collapsed": false,
     "input": [
      "len(PeterPan)"
     ],
     "language": "python",
     "metadata": {},
     "outputs": [
      {
       "metadata": {},
       "output_type": "pyout",
       "prompt_number": 3,
       "text": [
        "284804"
       ]
      }
     ],
     "prompt_number": 3
    },
    {
     "cell_type": "code",
     "collapsed": false,
     "input": [
      "def inverse(s):\n",
      "    \"\"\"\n",
      "    Renvoie l'inverse de la chaine s\n",
      "    Exemple:\n",
      "    >>>inverse('hello')\n",
      "    olleh\n",
      "    \"\"\"\n",
      "    res=''\n",
      "    for i in range(1,len(s)+1):\n",
      "        res+=s[-i]\n",
      "    return res"
     ],
     "language": "python",
     "metadata": {},
     "outputs": [],
     "prompt_number": 5
    },
    {
     "cell_type": "code",
     "collapsed": false,
     "input": [
      "def palindrome(s):\n",
      "    \"\"\"\n",
      "    Renvoie vrai si s est un palindrome, faux sinon\n",
      "    \"\"\"\n",
      "    return s == inverse(s)"
     ],
     "language": "python",
     "metadata": {},
     "outputs": [],
     "prompt_number": 6
    },
    {
     "cell_type": "code",
     "collapsed": false,
     "input": [
      "# On va faire coulisser une fen\u00eatre d'observation\n",
      "# de la chaine de taille 7 et tester \u00e0 chaque fois\n",
      "# si c'est un palindrome\n",
      "for i in range(len(PeterPan)-7):\n",
      "    fenetre=PeterPan[i:i+7]\n",
      "    if fenetre.isalpha() and palindrome(PeterPan[i:i+7]):\n",
      "        print(PeterPan[i:i+7]+\" trouv\u00e9 en position \"+str(i))"
     ],
     "language": "python",
     "metadata": {},
     "outputs": [
      {
       "output_type": "stream",
       "stream": "stdout",
       "text": [
        "terpret trouv\u00e9 en position 157894\n",
        "onotono trouv\u00e9 en position 222729"
       ]
      },
      {
       "output_type": "stream",
       "stream": "stdout",
       "text": [
        "\n",
        "terpret trouv\u00e9 en position 277443\n",
        "ississi trouv\u00e9 en position 279577\n"
       ]
      }
     ],
     "prompt_number": 8
    },
    {
     "cell_type": "code",
     "collapsed": false,
     "input": [
      "# On va faire une fonction qui affiche les palindromes d'un texte\n",
      "# d'une taille donn\u00e9e\n",
      "def cherchePalindromes(texte,taille):\n",
      "    resultat=[]\n",
      "    for i in range(len(texte)-taille+1):\n",
      "        fenetre=texte[i:i+taille]\n",
      "        if fenetre.isalpha() and palindrome(texte[i:i+taille]):\n",
      "            resultat.append((texte[i:i+taille],i))\n",
      "    return resultat\n",
      "    "
     ],
     "language": "python",
     "metadata": {},
     "outputs": [],
     "prompt_number": 23
    },
    {
     "cell_type": "code",
     "collapsed": false,
     "input": [
      "cherchePalindromes(\"laval est une belle ville bbobb\",5)"
     ],
     "language": "python",
     "metadata": {},
     "outputs": [
      {
       "metadata": {},
       "output_type": "pyout",
       "prompt_number": 24,
       "text": [
        "[('laval', 0), ('bbobb', 26)]"
       ]
      }
     ],
     "prompt_number": 24
    },
    {
     "cell_type": "code",
     "collapsed": false,
     "input": [
      "cherchePalindromes(PeterPan,6)"
     ],
     "language": "python",
     "metadata": {},
     "outputs": [
      {
       "output_type": "stream",
       "stream": "stdout",
       "text": [
        "raggar trouv\u00e9 en position 40350\n",
        "rammar trouv\u00e9 en position 42440\n",
        "diffid trouv\u00e9 en position 152457"
       ]
      },
      {
       "output_type": "stream",
       "stream": "stdout",
       "text": [
        "\n",
        "diffid trouv\u00e9 en position 205995\n",
        "diffid trouv\u00e9 en position 262340"
       ]
      },
      {
       "output_type": "stream",
       "stream": "stdout",
       "text": [
        "\n"
       ]
      }
     ],
     "prompt_number": 18
    },
    {
     "cell_type": "code",
     "collapsed": false,
     "input": [
      "cherchePalindromes(PeterPan,7)"
     ],
     "language": "python",
     "metadata": {},
     "outputs": [
      {
       "output_type": "stream",
       "stream": "stdout",
       "text": [
        "terpret trouv\u00e9 en position 157894\n",
        "onotono trouv\u00e9 en position 222729\n",
        "terpret trouv\u00e9 en position 277443"
       ]
      },
      {
       "output_type": "stream",
       "stream": "stdout",
       "text": [
        "\n",
        "ississi trouv\u00e9 en position 279577\n"
       ]
      }
     ],
     "prompt_number": 19
    },
    {
     "cell_type": "code",
     "collapsed": false,
     "input": [
      "cherchePalindromes(PeterPan,8)\n",
      "liste=[1]"
     ],
     "language": "python",
     "metadata": {},
     "outputs": [],
     "prompt_number": 25
    },
    {
     "cell_type": "code",
     "collapsed": false,
     "input": [
      "len(liste)"
     ],
     "language": "python",
     "metadata": {},
     "outputs": [
      {
       "metadata": {},
       "output_type": "pyout",
       "prompt_number": 26,
       "text": [
        "1"
       ]
      }
     ],
     "prompt_number": 26
    },
    {
     "cell_type": "code",
     "collapsed": false,
     "input": [],
     "language": "python",
     "metadata": {},
     "outputs": []
    },
    {
     "cell_type": "code",
     "collapsed": false,
     "input": [
      "def plusLongPalindrome(texte):\n",
      "    \"\"\"\n",
      "    Renvoie la plus grande taille de palindrome trouv\u00e9 dans le texte\"\n",
      "    \"\"\"\n",
      "    taille=3\n",
      "    while len(cherchePalindromes(texte,taille)) > 0:\n",
      "        taille+=1\n",
      "    return taille-1"
     ],
     "language": "python",
     "metadata": {},
     "outputs": [],
     "prompt_number": 36
    },
    {
     "cell_type": "code",
     "collapsed": false,
     "input": [
      "plusLongPalindrome(PeterPan)"
     ],
     "language": "python",
     "metadata": {},
     "outputs": [
      {
       "metadata": {},
       "output_type": "pyout",
       "prompt_number": 37,
       "text": [
        "7"
       ]
      }
     ],
     "prompt_number": 37
    },
    {
     "cell_type": "code",
     "collapsed": false,
     "input": [
      "phrase=\"il fait beau et chaud, cet apr\u00e8s-midi. C'est agr\u00e9able\"\n",
      "phrase.split()"
     ],
     "language": "python",
     "metadata": {},
     "outputs": [
      {
       "metadata": {},
       "output_type": "pyout",
       "prompt_number": 45,
       "text": [
        "['il',\n",
        " 'fait',\n",
        " 'beau',\n",
        " 'et',\n",
        " 'chaud,',\n",
        " 'cet',\n",
        " 'apr\u00e8s-midi.',\n",
        " \"C'est\",\n",
        " 'agr\u00e9able']"
       ]
      }
     ],
     "prompt_number": 45
    },
    {
     "cell_type": "code",
     "collapsed": false,
     "input": [
      "def compte_mots(texte):\n",
      "    return len(texte.split())"
     ],
     "language": "python",
     "metadata": {},
     "outputs": [],
     "prompt_number": 46
    },
    {
     "cell_type": "code",
     "collapsed": false,
     "input": [
      "compte_mots(PeterPan)"
     ],
     "language": "python",
     "metadata": {},
     "outputs": [
      {
       "metadata": {},
       "output_type": "pyout",
       "prompt_number": 47,
       "text": [
        "50763"
       ]
      }
     ],
     "prompt_number": 47
    },
    {
     "cell_type": "code",
     "collapsed": false,
     "input": [
      "liste=[\"blanc\",\"bleu\",\"blanc\",\"noir\",\"bleu\",\"bleu\",\"rouge\"]\n",
      "def decompte(liste):\n",
      "    dico=dict()\n",
      "    for a in liste:\n",
      "        if not a in dico:\n",
      "            dico[a]=liste.count(a)   \n",
      "    return dico.sort(lambda x,y:cmp(x[1],y[1]))"
     ],
     "language": "python",
     "metadata": {},
     "outputs": [],
     "prompt_number": "*"
    },
    {
     "cell_type": "code",
     "collapsed": false,
     "input": [
      "decompte(liste)"
     ],
     "language": "python",
     "metadata": {},
     "outputs": [
      {
       "metadata": {},
       "output_type": "pyout",
       "prompt_number": 50,
       "text": [
        "{'blanc': 2, 'bleu': 3, 'noir': 1, 'rouge': 1}"
       ]
      }
     ],
     "prompt_number": 50
    },
    {
     "cell_type": "code",
     "collapsed": false,
     "input": [
      "liste=[\"blanc\",\"bleu\",\"blanc\",\"noir\",\"bleu\",\"bleu\",\"rouge\"]\n",
      "def decompte(liste):\n",
      "    dico=dict()\n",
      "    for a in liste:\n",
      "        if not a in dico:\n",
      "            dico[a]=liste.count(a)\n",
      "    dico\n",
      "    return dico"
     ],
     "language": "python",
     "metadata": {},
     "outputs": [],
     "prompt_number": 3
    },
    {
     "cell_type": "code",
     "collapsed": false,
     "input": [
      "print (decompte(liste).keys())\n",
      "print (decompte(liste).values())"
     ],
     "language": "python",
     "metadata": {},
     "outputs": [
      {
       "ename": "AttributeError",
       "evalue": "'dict' object has no attribute 'sort'",
       "output_type": "pyerr",
       "traceback": [
        "\u001b[0;31m---------------------------------------------------------------------------\u001b[0m\n\u001b[0;31mAttributeError\u001b[0m                            Traceback (most recent call last)",
        "\u001b[0;32m<ipython-input-4-0602bf449d67>\u001b[0m in \u001b[0;36m<module>\u001b[0;34m()\u001b[0m\n\u001b[0;32m----> 1\u001b[0;31m \u001b[0mprint\u001b[0m \u001b[0;34m(\u001b[0m\u001b[0mdecompte\u001b[0m\u001b[0;34m(\u001b[0m\u001b[0mliste\u001b[0m\u001b[0;34m)\u001b[0m\u001b[0;34m.\u001b[0m\u001b[0mkeys\u001b[0m\u001b[0;34m(\u001b[0m\u001b[0;34m)\u001b[0m\u001b[0;34m)\u001b[0m\u001b[0;34m\u001b[0m\u001b[0m\n\u001b[0m\u001b[1;32m      2\u001b[0m \u001b[0mprint\u001b[0m \u001b[0;34m(\u001b[0m\u001b[0mdecompte\u001b[0m\u001b[0;34m(\u001b[0m\u001b[0mliste\u001b[0m\u001b[0;34m)\u001b[0m\u001b[0;34m.\u001b[0m\u001b[0mvalues\u001b[0m\u001b[0;34m(\u001b[0m\u001b[0;34m)\u001b[0m\u001b[0;34m)\u001b[0m\u001b[0;34m\u001b[0m\u001b[0m\n",
        "\u001b[0;32m<ipython-input-3-66f760fa328f>\u001b[0m in \u001b[0;36mdecompte\u001b[0;34m(liste)\u001b[0m\n\u001b[1;32m      5\u001b[0m         \u001b[0;32mif\u001b[0m \u001b[0;32mnot\u001b[0m \u001b[0ma\u001b[0m \u001b[0;32min\u001b[0m \u001b[0mdico\u001b[0m\u001b[0;34m:\u001b[0m\u001b[0;34m\u001b[0m\u001b[0m\n\u001b[1;32m      6\u001b[0m             \u001b[0mdico\u001b[0m\u001b[0;34m[\u001b[0m\u001b[0ma\u001b[0m\u001b[0;34m]\u001b[0m\u001b[0;34m=\u001b[0m\u001b[0mliste\u001b[0m\u001b[0;34m.\u001b[0m\u001b[0mcount\u001b[0m\u001b[0;34m(\u001b[0m\u001b[0ma\u001b[0m\u001b[0;34m)\u001b[0m\u001b[0;34m\u001b[0m\u001b[0m\n\u001b[0;32m----> 7\u001b[0;31m     \u001b[0mdico\u001b[0m\u001b[0;34m.\u001b[0m\u001b[0msort\u001b[0m\u001b[0;34m(\u001b[0m\u001b[0;32mlambda\u001b[0m \u001b[0mx\u001b[0m\u001b[0;34m,\u001b[0m\u001b[0my\u001b[0m\u001b[0;34m:\u001b[0m\u001b[0mcmp\u001b[0m\u001b[0;34m(\u001b[0m\u001b[0mx\u001b[0m\u001b[0;34m[\u001b[0m\u001b[0;36m1\u001b[0m\u001b[0;34m]\u001b[0m\u001b[0;34m,\u001b[0m\u001b[0my\u001b[0m\u001b[0;34m[\u001b[0m\u001b[0;36m1\u001b[0m\u001b[0;34m]\u001b[0m\u001b[0;34m)\u001b[0m\u001b[0;34m)\u001b[0m\u001b[0;34m\u001b[0m\u001b[0m\n\u001b[0m\u001b[1;32m      8\u001b[0m     \u001b[0;32mreturn\u001b[0m \u001b[0mdico\u001b[0m\u001b[0;34m\u001b[0m\u001b[0m\n",
        "\u001b[0;31mAttributeError\u001b[0m: 'dict' object has no attribute 'sort'"
       ]
      }
     ],
     "prompt_number": 4
    },
    {
     "cell_type": "code",
     "collapsed": false,
     "input": [
      "def mot_le_plus_frequent(dico):\n",
      "    freq_max=0\n",
      "    mot_max=\"\"\n",
      "    for mot in dico.keys():\n",
      "        if dico[mot]>freq_max:\n",
      "            mot_max=mot\n",
      "            freq_max=dico[mot]\n",
      "    return mot_max,freq_max"
     ],
     "language": "python",
     "metadata": {},
     "outputs": [],
     "prompt_number": 54
    },
    {
     "cell_type": "code",
     "collapsed": false,
     "input": [
      "mot_le_plus_frequent(decompte(liste))"
     ],
     "language": "python",
     "metadata": {},
     "outputs": [
      {
       "metadata": {},
       "output_type": "pyout",
       "prompt_number": 55,
       "text": [
        "('bleu', 3)"
       ]
      }
     ],
     "prompt_number": 55
    },
    {
     "cell_type": "code",
     "collapsed": false,
     "input": [
      "mot_le_plus_frequent(decompte(PeterPan.split()))"
     ],
     "language": "python",
     "metadata": {},
     "outputs": [
      {
       "metadata": {},
       "output_type": "pyout",
       "prompt_number": 57,
       "text": [
        "('the', 2331)"
       ]
      }
     ],
     "prompt_number": 57
    },
    {
     "cell_type": "code",
     "collapsed": false,
     "input": [
      "liste=[\"maison\",\"immeuble\",\"parking\",\"hopital\",\"rue\"]\n",
      "\n",
      "def abrege(l,n):\n",
      "    \"\"\"\n",
      "    >>> abrege([\"maison\",\"immeuble\",\"parking\",\"hopital\",\"rue\"],3)\n",
      "    {'maison': 'mai.', 'rue': 'rue', 'parking': 'par.', 'hopital': 'hop.', 'immeuble': 'imm.'}\n",
      "    \"\"\"\n",
      "    dico=dict()\n",
      "    for a in l :\n",
      "        if len(a)>n :\n",
      "            chaine=a[:n]+\".\"\n",
      "        else :\n",
      "            chaine=a\n",
      "        dico[a]=chaine\n",
      "    return dico    \n",
      "\n",
      "print (abrege(liste,3))"
     ],
     "language": "python",
     "metadata": {},
     "outputs": [
      {
       "output_type": "stream",
       "stream": "stdout",
       "text": [
        "{'maison': 'mai.', 'rue': 'rue', 'parking': 'par.', 'hopital': 'hop.', 'immeuble': 'imm.'}\n"
       ]
      }
     ],
     "prompt_number": 11
    },
    {
     "cell_type": "code",
     "collapsed": false,
     "input": [
      "from ipython_doctester import test\n"
     ],
     "language": "python",
     "metadata": {},
     "outputs": [],
     "prompt_number": 14
    },
    {
     "cell_type": "code",
     "collapsed": false,
     "input": [
      "def pair(x):\n",
      "    \"\"\"\n",
      "    >>> pair(18)\n",
      "    True\n",
      "    >>> pair(17)\n",
      "    False\n",
      "    \"\"\"\n",
      "    return x%2 == 0"
     ],
     "language": "python",
     "metadata": {},
     "outputs": [],
     "prompt_number": 18
    },
    {
     "cell_type": "code",
     "collapsed": false,
     "input": [
      "test(pair)"
     ],
     "language": "python",
     "metadata": {},
     "outputs": [
      {
       "html": [
        "\n",
        "        <p><span style=\"color:red;\">Oops!</span>  Not quite there yet...</p>\n",
        "      \n",
        "                       <table>\n",
        "                       <tr><th>Tried</th><th>Expected</th><th>Got</th></tr><tr><td><code><pre>pair(18)\n",
        "</pre></code></td><td><pre>True\n",
        "</pre></td><td><pre style=\"color:red\">False\n",
        "</pre></td></tr>\n",
        "        <tr><td><code><pre>pair(17)\n",
        "</pre></code></td><td><pre>False\n",
        "</pre></td><td><pre style=\"color:red\">True\n",
        "</pre></td></tr>\n",
        "                      </table>\n",
        "                      "
       ],
       "metadata": {},
       "output_type": "display_data"
      },
      {
       "metadata": {},
       "output_type": "pyout",
       "prompt_number": 19,
       "text": [
        "<function __main__.pair>"
       ]
      }
     ],
     "prompt_number": 19
    },
    {
     "cell_type": "code",
     "collapsed": false,
     "input": [
      "test(abrege)"
     ],
     "language": "python",
     "metadata": {},
     "outputs": []
    }
   ],
   "metadata": {}
  }
 ]
}