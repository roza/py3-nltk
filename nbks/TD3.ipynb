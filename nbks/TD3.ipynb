{
 "metadata": {
  "name": ""
 },
 "nbformat": 3,
 "nbformat_minor": 0,
 "worksheets": [
  {
   "cells": [
    {
     "cell_type": "code",
     "collapsed": false,
     "input": [
      "def total_depenses(liste):\n",
      "    \"\"\"\n",
      "    Cette fonction prend en entr\u00e9e une liste de d\u00e9penses sous la forme\n",
      "    de couples (nom, montant) et renvoie le total cumul\u00e9 des d\u00e9penses\n",
      "    >>>total_depenses([('joe',23), ('ophelie',28),('ophelie',17),('paul',5)])\n",
      "    51\n",
      "    \"\"\"\n",
      "    total=0\n",
      "    for c in liste:\n",
      "        personne,depense=c\n",
      "        #total = total + depense\n",
      "        total += depense\n",
      "    return total"
     ],
     "language": "python",
     "metadata": {},
     "outputs": [],
     "prompt_number": 9
    },
    {
     "cell_type": "code",
     "collapsed": false,
     "input": [],
     "language": "python",
     "metadata": {},
     "outputs": []
    },
    {
     "cell_type": "code",
     "collapsed": false,
     "input": [
      "total_depenses([('joe',23), ('ophelie',28)])"
     ],
     "language": "python",
     "metadata": {},
     "outputs": [
      {
       "output_type": "stream",
       "stream": "stdout",
       "text": [
        "joe\n",
        "23\n",
        "ophelie\n",
        "28\n"
       ]
      }
     ],
     "prompt_number": 8
    },
    {
     "cell_type": "code",
     "collapsed": false,
     "input": [
      "depenses=[('joe',23), ('ophelie',28),('ophelie',17),('paul',5),('adele',17)]\n"
     ],
     "language": "python",
     "metadata": {},
     "outputs": [],
     "prompt_number": 34
    },
    {
     "cell_type": "code",
     "collapsed": false,
     "input": [
      "def somme_personne(liste,pers):\n",
      "    \"\"\"\n",
      "    Cette fonction prend en entr\u00e9e une liste de d\u00e9penses sous la forme de couples\n",
      "    et une personne pers et renvoie le total des d\u00e9penses de cette personne\n",
      "    \"\"\"\n",
      "    total=0\n",
      "    for c in liste:\n",
      "        personne,depense=c\n",
      "        if personne == pers:\n",
      "            total += depense\n",
      "    return total"
     ],
     "language": "python",
     "metadata": {},
     "outputs": [],
     "prompt_number": 12
    },
    {
     "cell_type": "code",
     "collapsed": false,
     "input": [
      "somme_personne(depenses,'ophelie')"
     ],
     "language": "python",
     "metadata": {},
     "outputs": [
      {
       "metadata": {},
       "output_type": "pyout",
       "prompt_number": 14,
       "text": [
        "45"
       ]
      }
     ],
     "prompt_number": 14
    },
    {
     "cell_type": "code",
     "collapsed": false,
     "input": [
      "def somme_par_personne(liste):\n",
      "    \"\"\"\n",
      "    Entr\u00e9e: liste de d\u00e9penses sous forme de couples\n",
      "    Sortie: Une liste de couples de d\u00e9penses (nom, total_depense_par_cette_personne)\n",
      "    \"\"\"\n",
      "    lespersonnes=[]\n",
      "    resultat=[]\n",
      "    for c in liste:\n",
      "        personne,depense=c\n",
      "        if lespersonnes.count(personne)==0:\n",
      "            lespersonnes.append(personne)\n",
      "    lespersonnes.sort()\n",
      "    for p in lespersonnes:\n",
      "        resultat.append((p,somme_personne(liste,p)))\n",
      "    return resultat\n",
      "        "
     ],
     "language": "python",
     "metadata": {},
     "outputs": [],
     "prompt_number": 40
    },
    {
     "cell_type": "code",
     "collapsed": false,
     "input": [
      "somme_par_personne(depenses)"
     ],
     "language": "python",
     "metadata": {},
     "outputs": [
      {
       "metadata": {},
       "output_type": "pyout",
       "prompt_number": 41,
       "text": [
        "[('adele', 17), ('joe', 23), ('ophelie', 45), ('paul', 5)]"
       ]
      }
     ],
     "prompt_number": 41
    },
    {
     "cell_type": "code",
     "collapsed": false,
     "input": [
      "lespers.count('ophelie')"
     ],
     "language": "python",
     "metadata": {},
     "outputs": [
      {
       "metadata": {},
       "output_type": "pyout",
       "prompt_number": 25,
       "text": [
        "1"
       ]
      }
     ],
     "prompt_number": 25
    },
    {
     "cell_type": "code",
     "collapsed": false,
     "input": [],
     "language": "python",
     "metadata": {},
     "outputs": []
    }
   ],
   "metadata": {}
  }
 ]
}